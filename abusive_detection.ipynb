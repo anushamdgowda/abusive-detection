{
  "nbformat": 4,
  "nbformat_minor": 0,
  "metadata": {
    "colab": {
      "name": "abusive detection.ipynb",
      "provenance": [],
      "collapsed_sections": []
    },
    "kernelspec": {
      "name": "python3",
      "display_name": "Python 3"
    },
    "language_info": {
      "name": "python"
    },
    "accelerator": "GPU"
  },
  "cells": [
    {
      "cell_type": "markdown",
      "source": [
        "only Tamil dataset"
      ],
      "metadata": {
        "id": "4Jwm6q7AUGKW"
      }
    },
    {
      "cell_type": "code",
      "source": [
        "from google.colab import drive\n",
        "drive.mount('/content/drive')"
      ],
      "metadata": {
        "colab": {
          "base_uri": "https://localhost:8080/"
        },
        "id": "MBboAL5CyZA_",
        "outputId": "9fe32f07-4c4b-4b6d-e98d-3a67f05171f0"
      },
      "execution_count": 2,
      "outputs": [
        {
          "output_type": "stream",
          "name": "stdout",
          "text": [
            "Mounted at /content/drive\n"
          ]
        }
      ]
    },
    {
      "cell_type": "code",
      "source": [
        "!pip install scikit-multilearn"
      ],
      "metadata": {
        "colab": {
          "base_uri": "https://localhost:8080/"
        },
        "id": "iMSo2IcSzkWj",
        "outputId": "7853e213-252f-4849-ada3-85c2864fdf3d"
      },
      "execution_count": 33,
      "outputs": [
        {
          "output_type": "stream",
          "name": "stdout",
          "text": [
            "Collecting scikit-multilearn\n",
            "  Downloading scikit_multilearn-0.2.0-py3-none-any.whl (89 kB)\n",
            "\u001b[?25l\r\u001b[K     |███▊                            | 10 kB 17.9 MB/s eta 0:00:01\r\u001b[K     |███████▍                        | 20 kB 11.0 MB/s eta 0:00:01\r\u001b[K     |███████████                     | 30 kB 8.4 MB/s eta 0:00:01\r\u001b[K     |██████████████▊                 | 40 kB 7.2 MB/s eta 0:00:01\r\u001b[K     |██████████████████▍             | 51 kB 3.3 MB/s eta 0:00:01\r\u001b[K     |██████████████████████          | 61 kB 3.9 MB/s eta 0:00:01\r\u001b[K     |█████████████████████████▊      | 71 kB 4.4 MB/s eta 0:00:01\r\u001b[K     |█████████████████████████████▍  | 81 kB 4.9 MB/s eta 0:00:01\r\u001b[K     |████████████████████████████████| 89 kB 3.3 MB/s \n",
            "\u001b[?25hInstalling collected packages: scikit-multilearn\n",
            "Successfully installed scikit-multilearn-0.2.0\n"
          ]
        }
      ]
    },
    {
      "cell_type": "code",
      "execution_count": 3,
      "metadata": {
        "colab": {
          "base_uri": "https://localhost:8080/"
        },
        "id": "tZkuMzroLzME",
        "outputId": "a392eb22-65fd-4061-c188-cc0724368a1a"
      },
      "outputs": [
        {
          "output_type": "stream",
          "name": "stdout",
          "text": [
            "Collecting emot\n",
            "  Downloading emot-3.1-py3-none-any.whl (61 kB)\n",
            "\u001b[?25l\r\u001b[K     |█████▎                          | 10 kB 18.3 MB/s eta 0:00:01\r\u001b[K     |██████████▋                     | 20 kB 20.7 MB/s eta 0:00:01\r\u001b[K     |████████████████                | 30 kB 22.5 MB/s eta 0:00:01\r\u001b[K     |█████████████████████▎          | 40 kB 19.0 MB/s eta 0:00:01\r\u001b[K     |██████████████████████████▋     | 51 kB 8.6 MB/s eta 0:00:01\r\u001b[K     |████████████████████████████████| 61 kB 8.0 MB/s eta 0:00:01\r\u001b[K     |████████████████████████████████| 61 kB 16 kB/s \n",
            "\u001b[?25hInstalling collected packages: emot\n",
            "Successfully installed emot-3.1\n",
            "Requirement already satisfied: xgboost in /usr/local/lib/python3.7/dist-packages (0.90)\n",
            "Requirement already satisfied: scipy in /usr/local/lib/python3.7/dist-packages (from xgboost) (1.4.1)\n",
            "Requirement already satisfied: numpy in /usr/local/lib/python3.7/dist-packages (from xgboost) (1.21.5)\n",
            "Requirement already satisfied: Textblob in /usr/local/lib/python3.7/dist-packages (0.15.3)\n",
            "Requirement already satisfied: nltk>=3.1 in /usr/local/lib/python3.7/dist-packages (from Textblob) (3.2.5)\n",
            "Requirement already satisfied: six in /usr/local/lib/python3.7/dist-packages (from nltk>=3.1->Textblob) (1.15.0)\n"
          ]
        }
      ],
      "source": [
        "# to convert emojis to text\n",
        "!pip install emot\n",
        "!pip install xgboost\n",
        "!pip install Textblob"
      ]
    },
    {
      "cell_type": "code",
      "source": [
        "import numpy as np \n",
        "import pandas as pd\n",
        "import re\n",
        "import gc\n",
        "import os\n",
        "import fileinput\n",
        "import string\n",
        "import tensorflow as tf\n",
        "import zipfile\n",
        "import datetime\n",
        "import sys\n",
        "from tqdm  import tqdm\n",
        "tqdm.pandas()\n",
        "from nltk.tokenize import wordpunct_tokenize\n",
        "from nltk.corpus import stopwords\n",
        "from nltk.stem.snowball import SnowballStemmer\n",
        "from sklearn.feature_extraction.text import CountVectorizer\n",
        "from sklearn.preprocessing import LabelEncoder\n",
        "from sklearn.metrics import accuracy_score\n",
        "from sklearn.metrics import f1_score, roc_auc_score\n",
        "\n",
        "from keras.preprocessing.text import Tokenizer\n",
        "from keras.preprocessing.sequence import pad_sequences\n",
        "from keras.models import Sequential\n",
        "from keras.layers import Dense, Flatten, LSTM, Conv1D, MaxPooling1D, Dropout, Activation\n",
        "from keras.layers.embeddings import Embedding\n",
        "from sklearn.metrics import classification_report\n",
        "from keras.utils import np_utils\n",
        "from sklearn.model_selection import train_test_split\n",
        "from sklearn.metrics import classification_report, confusion_matrix\n",
        "\n",
        "\n",
        "from skmultilearn.ensemble import MajorityVotingClassifier\n",
        "from skmultilearn.cluster import FixedLabelSpaceClusterer\n",
        "from skmultilearn.problem_transform import ClassifierChain\n",
        "from sklearn.naive_bayes import GaussianNB\n",
        "from sklearn.neural_network import MLPClassifier\n",
        "from sklearn.ensemble import RandomForestClassifier\n",
        "from sklearn.preprocessing import LabelEncoder"
      ],
      "metadata": {
        "id": "4coB-XzfLz-H"
      },
      "execution_count": 34,
      "outputs": []
    },
    {
      "cell_type": "code",
      "source": [
        "# def detect(tokens):\n",
        "#     return [t for t in tokens if t in valid_forms]\n",
        "    \n",
        "# def replace_blank(tokens):\n",
        "#     return [blank if t in valid_forms else t for t in tokens]\n",
        "\n",
        "# def create_windows(tokens, window_size=3):\n",
        "#     X = []\n",
        "#     for i, word in enumerate(tokens):\n",
        "#         if word == blank:\n",
        "#             window = tokens[i-window_size:i] + tokens[i+1:i+window_size+1]\n",
        "#             window = ' '.join(window)\n",
        "#             X.append(window)    \n",
        "#     return X"
      ],
      "metadata": {
        "id": "biIcv0MEL5Z8"
      },
      "execution_count": null,
      "outputs": []
    },
    {
      "cell_type": "code",
      "source": [
        "!pip install emoji\n",
        "\n",
        "import emoji\n",
        "\n",
        "def remove_emoji(text):\n",
        "    return emoji.get_emoji_regexp().sub(u'', text)"
      ],
      "metadata": {
        "colab": {
          "base_uri": "https://localhost:8080/"
        },
        "id": "jYlcsRysMApa",
        "outputId": "c5b38b50-1d21-4399-fb44-22861d6b832c"
      },
      "execution_count": 5,
      "outputs": [
        {
          "output_type": "stream",
          "name": "stdout",
          "text": [
            "Collecting emoji\n",
            "  Downloading emoji-1.7.0.tar.gz (175 kB)\n",
            "\u001b[?25l\r\u001b[K     |█▉                              | 10 kB 17.2 MB/s eta 0:00:01\r\u001b[K     |███▊                            | 20 kB 9.3 MB/s eta 0:00:01\r\u001b[K     |█████▋                          | 30 kB 5.5 MB/s eta 0:00:01\r\u001b[K     |███████▌                        | 40 kB 5.0 MB/s eta 0:00:01\r\u001b[K     |█████████▍                      | 51 kB 4.0 MB/s eta 0:00:01\r\u001b[K     |███████████▏                    | 61 kB 4.7 MB/s eta 0:00:01\r\u001b[K     |█████████████                   | 71 kB 4.7 MB/s eta 0:00:01\r\u001b[K     |███████████████                 | 81 kB 4.7 MB/s eta 0:00:01\r\u001b[K     |████████████████▉               | 92 kB 5.1 MB/s eta 0:00:01\r\u001b[K     |██████████████████▊             | 102 kB 5.0 MB/s eta 0:00:01\r\u001b[K     |████████████████████▌           | 112 kB 5.0 MB/s eta 0:00:01\r\u001b[K     |██████████████████████▍         | 122 kB 5.0 MB/s eta 0:00:01\r\u001b[K     |████████████████████████▎       | 133 kB 5.0 MB/s eta 0:00:01\r\u001b[K     |██████████████████████████▏     | 143 kB 5.0 MB/s eta 0:00:01\r\u001b[K     |████████████████████████████    | 153 kB 5.0 MB/s eta 0:00:01\r\u001b[K     |█████████████████████████████▉  | 163 kB 5.0 MB/s eta 0:00:01\r\u001b[K     |███████████████████████████████▊| 174 kB 5.0 MB/s eta 0:00:01\r\u001b[K     |████████████████████████████████| 175 kB 5.0 MB/s \n",
            "\u001b[?25hBuilding wheels for collected packages: emoji\n",
            "  Building wheel for emoji (setup.py) ... \u001b[?25l\u001b[?25hdone\n",
            "  Created wheel for emoji: filename=emoji-1.7.0-py3-none-any.whl size=171046 sha256=1fbb503353be170efa167016a3bcd3b87a0216b94ed256e92810308b6df7f9e9\n",
            "  Stored in directory: /root/.cache/pip/wheels/8a/4e/b6/57b01db010d17ef6ea9b40300af725ef3e210cb1acfb7ac8b6\n",
            "Successfully built emoji\n",
            "Installing collected packages: emoji\n",
            "Successfully installed emoji-1.7.0\n"
          ]
        }
      ]
    },
    {
      "cell_type": "code",
      "source": [
        "# import libraries and packages\n",
        "\n",
        "from sklearn.metrics import accuracy_score, confusion_matrix, classification_report, f1_score\n",
        "from sklearn.feature_extraction.text import  CountVectorizer, TfidfTransformer,TfidfVectorizer\n",
        "from sklearn.ensemble import VotingClassifier \n",
        "from xgboost import XGBClassifier\n",
        "from sklearn.ensemble import GradientBoostingClassifier, RandomForestClassifier\n",
        "from sklearn.metrics import precision_recall_fscore_support as score\n",
        "from sklearn.svm import SVC \n",
        "from sklearn.model_selection import GridSearchCV \n",
        "\n",
        "from textblob import TextBlob\n",
        "\n",
        "import nltk.data\n",
        "import numpy as np \n",
        "import pandas as pd\n",
        "import re\n",
        "import time\n",
        "import string\n",
        "\n",
        "# pd.set_option(\"max_colwidth\" ,220)\n",
        "# wn = nltk.WordNetLemmatizer()\n",
        "# nltk.download('wordnet')\n",
        "# nltk.download('stopwords')\n",
        "# stopwords = nltk.corpus.stopwords.words('english')"
      ],
      "metadata": {
        "id": "orxAV1kQIwWF"
      },
      "execution_count": 6,
      "outputs": []
    },
    {
      "cell_type": "code",
      "source": [
        "import string\n",
        "import re\n",
        "\n",
        "def clean_text(text):\n",
        "    #text = ' '.join([word for word in text.split() if not word.startswith('@')])           #user name with @ is removed\n",
        "    text = re.sub('@[a-zA-Z0-9]*', '', str(text))\n",
        "    stop_words = open(\"/content/drive/MyDrive/TamilStopWords (1).txt\" ,encoding='utf=8').read().split('\\n')\n",
        "    text = \"\".join([word.lower() for word in text if word not in string.punctuation]) \n",
        "    text = \"\".join([word for word in text if not word.isdigit()])\n",
        "    tokens = re.split('\\s+',text)\n",
        "    text = \" \".join(word for word in tokens if word not in stop_words)\n",
        "    return text\n",
        "\n",
        "\n",
        "\n",
        "data_train= pd.read_csv(\"/content/drive/MyDrive/Abusive Comment Detection in Tamil-ACL 2022-20220125T101444Z-001.zip (Unzipped Files)/Abusive Comment Detection in Tamil-ACL 2022/ta-en-misogyny-dev.csv\",header=None,sep='\\t')\n",
        "data_dev= pd.read_csv(\"/content/drive/MyDrive/new abusive-20220218T023446Z-001/new abusive/ta-misogyny-test.csv\", header=None,sep='\\t')\n",
        "#data_test= pd.read_csv(\"/content/drive/MyDrive/commaaticon_test_data (1)/test_hin.tsv\", sep='\\t')\n",
        "data_train.columns=['label','Text']\n",
        "data_dev.columns=['Text']\n",
        "data_train.head()"
      ],
      "metadata": {
        "id": "8Kx9FM0YMCtq",
        "colab": {
          "base_uri": "https://localhost:8080/",
          "height": 206
        },
        "outputId": "e7ea8069-e5ea-4444-d38a-eb9480fdcbea"
      },
      "execution_count": 21,
      "outputs": [
        {
          "output_type": "execute_result",
          "data": {
            "text/plain": [
              "               label                                               Text\n",
              "0  None-of-the-above                             Black saree u r so hot\n",
              "1     Counter-speech  Halo first ayunga kai thatti amount keatkyrang...\n",
              "2  None-of-the-above  Hello...... manithana sollunga.......... prama...\n",
              "3         Xenophobia  China kaaranai nalla kalaipan daily I am enjoy...\n",
              "4  None-of-the-above                   Onnota ponnu ipdi Panna vituviya"
            ],
            "text/html": [
              "\n",
              "  <div id=\"df-6159e800-f5b1-45eb-bad9-9ed666255c6e\">\n",
              "    <div class=\"colab-df-container\">\n",
              "      <div>\n",
              "<style scoped>\n",
              "    .dataframe tbody tr th:only-of-type {\n",
              "        vertical-align: middle;\n",
              "    }\n",
              "\n",
              "    .dataframe tbody tr th {\n",
              "        vertical-align: top;\n",
              "    }\n",
              "\n",
              "    .dataframe thead th {\n",
              "        text-align: right;\n",
              "    }\n",
              "</style>\n",
              "<table border=\"1\" class=\"dataframe\">\n",
              "  <thead>\n",
              "    <tr style=\"text-align: right;\">\n",
              "      <th></th>\n",
              "      <th>label</th>\n",
              "      <th>Text</th>\n",
              "    </tr>\n",
              "  </thead>\n",
              "  <tbody>\n",
              "    <tr>\n",
              "      <th>0</th>\n",
              "      <td>None-of-the-above</td>\n",
              "      <td>Black saree u r so hot</td>\n",
              "    </tr>\n",
              "    <tr>\n",
              "      <th>1</th>\n",
              "      <td>Counter-speech</td>\n",
              "      <td>Halo first ayunga kai thatti amount keatkyrang...</td>\n",
              "    </tr>\n",
              "    <tr>\n",
              "      <th>2</th>\n",
              "      <td>None-of-the-above</td>\n",
              "      <td>Hello...... manithana sollunga.......... prama...</td>\n",
              "    </tr>\n",
              "    <tr>\n",
              "      <th>3</th>\n",
              "      <td>Xenophobia</td>\n",
              "      <td>China kaaranai nalla kalaipan daily I am enjoy...</td>\n",
              "    </tr>\n",
              "    <tr>\n",
              "      <th>4</th>\n",
              "      <td>None-of-the-above</td>\n",
              "      <td>Onnota ponnu ipdi Panna vituviya</td>\n",
              "    </tr>\n",
              "  </tbody>\n",
              "</table>\n",
              "</div>\n",
              "      <button class=\"colab-df-convert\" onclick=\"convertToInteractive('df-6159e800-f5b1-45eb-bad9-9ed666255c6e')\"\n",
              "              title=\"Convert this dataframe to an interactive table.\"\n",
              "              style=\"display:none;\">\n",
              "        \n",
              "  <svg xmlns=\"http://www.w3.org/2000/svg\" height=\"24px\"viewBox=\"0 0 24 24\"\n",
              "       width=\"24px\">\n",
              "    <path d=\"M0 0h24v24H0V0z\" fill=\"none\"/>\n",
              "    <path d=\"M18.56 5.44l.94 2.06.94-2.06 2.06-.94-2.06-.94-.94-2.06-.94 2.06-2.06.94zm-11 1L8.5 8.5l.94-2.06 2.06-.94-2.06-.94L8.5 2.5l-.94 2.06-2.06.94zm10 10l.94 2.06.94-2.06 2.06-.94-2.06-.94-.94-2.06-.94 2.06-2.06.94z\"/><path d=\"M17.41 7.96l-1.37-1.37c-.4-.4-.92-.59-1.43-.59-.52 0-1.04.2-1.43.59L10.3 9.45l-7.72 7.72c-.78.78-.78 2.05 0 2.83L4 21.41c.39.39.9.59 1.41.59.51 0 1.02-.2 1.41-.59l7.78-7.78 2.81-2.81c.8-.78.8-2.07 0-2.86zM5.41 20L4 18.59l7.72-7.72 1.47 1.35L5.41 20z\"/>\n",
              "  </svg>\n",
              "      </button>\n",
              "      \n",
              "  <style>\n",
              "    .colab-df-container {\n",
              "      display:flex;\n",
              "      flex-wrap:wrap;\n",
              "      gap: 12px;\n",
              "    }\n",
              "\n",
              "    .colab-df-convert {\n",
              "      background-color: #E8F0FE;\n",
              "      border: none;\n",
              "      border-radius: 50%;\n",
              "      cursor: pointer;\n",
              "      display: none;\n",
              "      fill: #1967D2;\n",
              "      height: 32px;\n",
              "      padding: 0 0 0 0;\n",
              "      width: 32px;\n",
              "    }\n",
              "\n",
              "    .colab-df-convert:hover {\n",
              "      background-color: #E2EBFA;\n",
              "      box-shadow: 0px 1px 2px rgba(60, 64, 67, 0.3), 0px 1px 3px 1px rgba(60, 64, 67, 0.15);\n",
              "      fill: #174EA6;\n",
              "    }\n",
              "\n",
              "    [theme=dark] .colab-df-convert {\n",
              "      background-color: #3B4455;\n",
              "      fill: #D2E3FC;\n",
              "    }\n",
              "\n",
              "    [theme=dark] .colab-df-convert:hover {\n",
              "      background-color: #434B5C;\n",
              "      box-shadow: 0px 1px 3px 1px rgba(0, 0, 0, 0.15);\n",
              "      filter: drop-shadow(0px 1px 2px rgba(0, 0, 0, 0.3));\n",
              "      fill: #FFFFFF;\n",
              "    }\n",
              "  </style>\n",
              "\n",
              "      <script>\n",
              "        const buttonEl =\n",
              "          document.querySelector('#df-6159e800-f5b1-45eb-bad9-9ed666255c6e button.colab-df-convert');\n",
              "        buttonEl.style.display =\n",
              "          google.colab.kernel.accessAllowed ? 'block' : 'none';\n",
              "\n",
              "        async function convertToInteractive(key) {\n",
              "          const element = document.querySelector('#df-6159e800-f5b1-45eb-bad9-9ed666255c6e');\n",
              "          const dataTable =\n",
              "            await google.colab.kernel.invokeFunction('convertToInteractive',\n",
              "                                                     [key], {});\n",
              "          if (!dataTable) return;\n",
              "\n",
              "          const docLinkHtml = 'Like what you see? Visit the ' +\n",
              "            '<a target=\"_blank\" href=https://colab.research.google.com/notebooks/data_table.ipynb>data table notebook</a>'\n",
              "            + ' to learn more about interactive tables.';\n",
              "          element.innerHTML = '';\n",
              "          dataTable['output_type'] = 'display_data';\n",
              "          await google.colab.output.renderOutput(dataTable, element);\n",
              "          const docLink = document.createElement('div');\n",
              "          docLink.innerHTML = docLinkHtml;\n",
              "          element.appendChild(docLink);\n",
              "        }\n",
              "      </script>\n",
              "    </div>\n",
              "  </div>\n",
              "  "
            ]
          },
          "metadata": {},
          "execution_count": 21
        }
      ]
    },
    {
      "cell_type": "code",
      "source": [
        "data_train['label'].value_counts()"
      ],
      "metadata": {
        "colab": {
          "base_uri": "https://localhost:8080/"
        },
        "id": "zGa1puKUYrfh",
        "outputId": "8c4a2e5c-0aba-4940-949c-fcf8a7917b32"
      },
      "execution_count": 22,
      "outputs": [
        {
          "output_type": "execute_result",
          "data": {
            "text/plain": [
              "None-of-the-above    919\n",
              "Misandry             218\n",
              "Counter-speech        95\n",
              "Xenophobia            70\n",
              "Hope-Speech           53\n",
              "Misogyny              50\n",
              "Homophobia            43\n",
              "Transphobic           40\n",
              "Name: label, dtype: int64"
            ]
          },
          "metadata": {},
          "execution_count": 22
        }
      ]
    },
    {
      "cell_type": "code",
      "source": [
        "# #file =open(\"/content/drive/MyDrive/Abusive Comment Detection in Tamil-ACL 2022-20220125T101444Z-001.zip (Unzipped Files)/Abusive Comment Detection in Tamil-ACL 2022/ta-misogyny-train (1).csv\",\"r\")\n",
        "# read_data=file.read()\n",
        "# p_w= read_data.split()\n",
        "# len(p_w)"
      ],
      "metadata": {
        "id": "WPBHwGtEyAf7"
      },
      "execution_count": 23,
      "outputs": []
    },
    {
      "cell_type": "code",
      "source": [
        "df_filtered = data_train.mask(lambda x: x['label'] == 'Not-Tamil')"
      ],
      "metadata": {
        "id": "3tPQBAvGGs-v"
      },
      "execution_count": 24,
      "outputs": []
    },
    {
      "cell_type": "code",
      "source": [
        "df_filtered.label.value_counts()"
      ],
      "metadata": {
        "colab": {
          "base_uri": "https://localhost:8080/"
        },
        "id": "wSz2HJAwHBZa",
        "outputId": "8f543770-55d7-42dc-cb74-a7837129f6c6"
      },
      "execution_count": 25,
      "outputs": [
        {
          "output_type": "execute_result",
          "data": {
            "text/plain": [
              "None-of-the-above    919\n",
              "Misandry             218\n",
              "Counter-speech        95\n",
              "Xenophobia            70\n",
              "Hope-Speech           53\n",
              "Misogyny              50\n",
              "Homophobia            43\n",
              "Transphobic           40\n",
              "Name: label, dtype: int64"
            ]
          },
          "metadata": {},
          "execution_count": 25
        }
      ]
    },
    {
      "cell_type": "code",
      "source": [
        "data_train.label.value_counts()"
      ],
      "metadata": {
        "colab": {
          "base_uri": "https://localhost:8080/"
        },
        "id": "sAu5uoul_cso",
        "outputId": "04dd57e0-d673-4d5c-bdf7-f83b5407e4a1"
      },
      "execution_count": 26,
      "outputs": [
        {
          "output_type": "execute_result",
          "data": {
            "text/plain": [
              "None-of-the-above    919\n",
              "Misandry             218\n",
              "Counter-speech        95\n",
              "Xenophobia            70\n",
              "Hope-Speech           53\n",
              "Misogyny              50\n",
              "Homophobia            43\n",
              "Transphobic           40\n",
              "Name: label, dtype: int64"
            ]
          },
          "metadata": {},
          "execution_count": 26
        }
      ]
    },
    {
      "cell_type": "code",
      "source": [
        "data_train['clean'] = df_filtered['Text'].apply(lambda x:clean_text(x))      \n",
        "data_train.head()\n",
        "\n",
        "data_dev['clean'] = data_dev['Text'].apply(lambda x:clean_text(x))      \n",
        "data_dev.head()"
      ],
      "metadata": {
        "colab": {
          "base_uri": "https://localhost:8080/",
          "height": 285
        },
        "id": "jGHsWaFTMTo_",
        "outputId": "579d687c-a3e9-47c7-f313-82afcfd4fe26"
      },
      "execution_count": 27,
      "outputs": [
        {
          "output_type": "execute_result",
          "data": {
            "text/plain": [
              "                                                Text  \\\n",
              "0                           அந்த தமிழன் ஒரு சாதிவெறி   \n",
              "1  இந்த வந்தேரிக்கு தகுந்த பாடம் கற்பிப்பார்கள் த...   \n",
              "2            எச்ச ராஜா நீ ஒரு மானங்கெட்ட தாயை விட நீ   \n",
              "3  பணம் இருக்கும் இடத்தில் கேட்பது தவறு  இல்லை பண...   \n",
              "4  சக தோழியாக நினைத்து ஆதரவு தாருங்கள் நண்பர்களே!...   \n",
              "\n",
              "                                               clean  \n",
              "0                                    தமிழன் சாதிவெறி  \n",
              "1  வந்தேரிக்கு தகுந்த பாடம் கற்பிப்பார்கள் தமிழர்கள்  \n",
              "2                          எச்ச ராஜா மானங்கெட்ட தாயை  \n",
              "3  பணம் கேட்பது தவறு இல்லை பணம் இல்லாத கேட்பதுதான...  \n",
              "4  சக தோழியாக நினைத்து ஆதரவு தாருங்கள் நண்பர்களே ...  "
            ],
            "text/html": [
              "\n",
              "  <div id=\"df-2250ab36-3fbe-402a-86b5-c3b12b399bba\">\n",
              "    <div class=\"colab-df-container\">\n",
              "      <div>\n",
              "<style scoped>\n",
              "    .dataframe tbody tr th:only-of-type {\n",
              "        vertical-align: middle;\n",
              "    }\n",
              "\n",
              "    .dataframe tbody tr th {\n",
              "        vertical-align: top;\n",
              "    }\n",
              "\n",
              "    .dataframe thead th {\n",
              "        text-align: right;\n",
              "    }\n",
              "</style>\n",
              "<table border=\"1\" class=\"dataframe\">\n",
              "  <thead>\n",
              "    <tr style=\"text-align: right;\">\n",
              "      <th></th>\n",
              "      <th>Text</th>\n",
              "      <th>clean</th>\n",
              "    </tr>\n",
              "  </thead>\n",
              "  <tbody>\n",
              "    <tr>\n",
              "      <th>0</th>\n",
              "      <td>அந்த தமிழன் ஒரு சாதிவெறி</td>\n",
              "      <td>தமிழன் சாதிவெறி</td>\n",
              "    </tr>\n",
              "    <tr>\n",
              "      <th>1</th>\n",
              "      <td>இந்த வந்தேரிக்கு தகுந்த பாடம் கற்பிப்பார்கள் த...</td>\n",
              "      <td>வந்தேரிக்கு தகுந்த பாடம் கற்பிப்பார்கள் தமிழர்கள்</td>\n",
              "    </tr>\n",
              "    <tr>\n",
              "      <th>2</th>\n",
              "      <td>எச்ச ராஜா நீ ஒரு மானங்கெட்ட தாயை விட நீ</td>\n",
              "      <td>எச்ச ராஜா மானங்கெட்ட தாயை</td>\n",
              "    </tr>\n",
              "    <tr>\n",
              "      <th>3</th>\n",
              "      <td>பணம் இருக்கும் இடத்தில் கேட்பது தவறு  இல்லை பண...</td>\n",
              "      <td>பணம் கேட்பது தவறு இல்லை பணம் இல்லாத கேட்பதுதான...</td>\n",
              "    </tr>\n",
              "    <tr>\n",
              "      <th>4</th>\n",
              "      <td>சக தோழியாக நினைத்து ஆதரவு தாருங்கள் நண்பர்களே!...</td>\n",
              "      <td>சக தோழியாக நினைத்து ஆதரவு தாருங்கள் நண்பர்களே ...</td>\n",
              "    </tr>\n",
              "  </tbody>\n",
              "</table>\n",
              "</div>\n",
              "      <button class=\"colab-df-convert\" onclick=\"convertToInteractive('df-2250ab36-3fbe-402a-86b5-c3b12b399bba')\"\n",
              "              title=\"Convert this dataframe to an interactive table.\"\n",
              "              style=\"display:none;\">\n",
              "        \n",
              "  <svg xmlns=\"http://www.w3.org/2000/svg\" height=\"24px\"viewBox=\"0 0 24 24\"\n",
              "       width=\"24px\">\n",
              "    <path d=\"M0 0h24v24H0V0z\" fill=\"none\"/>\n",
              "    <path d=\"M18.56 5.44l.94 2.06.94-2.06 2.06-.94-2.06-.94-.94-2.06-.94 2.06-2.06.94zm-11 1L8.5 8.5l.94-2.06 2.06-.94-2.06-.94L8.5 2.5l-.94 2.06-2.06.94zm10 10l.94 2.06.94-2.06 2.06-.94-2.06-.94-.94-2.06-.94 2.06-2.06.94z\"/><path d=\"M17.41 7.96l-1.37-1.37c-.4-.4-.92-.59-1.43-.59-.52 0-1.04.2-1.43.59L10.3 9.45l-7.72 7.72c-.78.78-.78 2.05 0 2.83L4 21.41c.39.39.9.59 1.41.59.51 0 1.02-.2 1.41-.59l7.78-7.78 2.81-2.81c.8-.78.8-2.07 0-2.86zM5.41 20L4 18.59l7.72-7.72 1.47 1.35L5.41 20z\"/>\n",
              "  </svg>\n",
              "      </button>\n",
              "      \n",
              "  <style>\n",
              "    .colab-df-container {\n",
              "      display:flex;\n",
              "      flex-wrap:wrap;\n",
              "      gap: 12px;\n",
              "    }\n",
              "\n",
              "    .colab-df-convert {\n",
              "      background-color: #E8F0FE;\n",
              "      border: none;\n",
              "      border-radius: 50%;\n",
              "      cursor: pointer;\n",
              "      display: none;\n",
              "      fill: #1967D2;\n",
              "      height: 32px;\n",
              "      padding: 0 0 0 0;\n",
              "      width: 32px;\n",
              "    }\n",
              "\n",
              "    .colab-df-convert:hover {\n",
              "      background-color: #E2EBFA;\n",
              "      box-shadow: 0px 1px 2px rgba(60, 64, 67, 0.3), 0px 1px 3px 1px rgba(60, 64, 67, 0.15);\n",
              "      fill: #174EA6;\n",
              "    }\n",
              "\n",
              "    [theme=dark] .colab-df-convert {\n",
              "      background-color: #3B4455;\n",
              "      fill: #D2E3FC;\n",
              "    }\n",
              "\n",
              "    [theme=dark] .colab-df-convert:hover {\n",
              "      background-color: #434B5C;\n",
              "      box-shadow: 0px 1px 3px 1px rgba(0, 0, 0, 0.15);\n",
              "      filter: drop-shadow(0px 1px 2px rgba(0, 0, 0, 0.3));\n",
              "      fill: #FFFFFF;\n",
              "    }\n",
              "  </style>\n",
              "\n",
              "      <script>\n",
              "        const buttonEl =\n",
              "          document.querySelector('#df-2250ab36-3fbe-402a-86b5-c3b12b399bba button.colab-df-convert');\n",
              "        buttonEl.style.display =\n",
              "          google.colab.kernel.accessAllowed ? 'block' : 'none';\n",
              "\n",
              "        async function convertToInteractive(key) {\n",
              "          const element = document.querySelector('#df-2250ab36-3fbe-402a-86b5-c3b12b399bba');\n",
              "          const dataTable =\n",
              "            await google.colab.kernel.invokeFunction('convertToInteractive',\n",
              "                                                     [key], {});\n",
              "          if (!dataTable) return;\n",
              "\n",
              "          const docLinkHtml = 'Like what you see? Visit the ' +\n",
              "            '<a target=\"_blank\" href=https://colab.research.google.com/notebooks/data_table.ipynb>data table notebook</a>'\n",
              "            + ' to learn more about interactive tables.';\n",
              "          element.innerHTML = '';\n",
              "          dataTable['output_type'] = 'display_data';\n",
              "          await google.colab.output.renderOutput(dataTable, element);\n",
              "          const docLink = document.createElement('div');\n",
              "          docLink.innerHTML = docLinkHtml;\n",
              "          element.appendChild(docLink);\n",
              "        }\n",
              "      </script>\n",
              "    </div>\n",
              "  </div>\n",
              "  "
            ]
          },
          "metadata": {},
          "execution_count": 27
        }
      ]
    },
    {
      "cell_type": "code",
      "source": [
        "#y_train=df_upsampled['label']\n",
        "y_train=df_filtered['label']\n",
        "#y_test=data_dev['label']\n",
        "\n",
        "\n",
        "y = pd.get_dummies(df_filtered['label']).values\n",
        "\n",
        "\n",
        "y_train1=pd.get_dummies(y_train).values\n",
        "#y_test1=pd.get_dummies(y_test).values\n",
        "diz_label = {}\n",
        "for i,label in enumerate(df_filtered.label.factorize()[1]):\n",
        "    diz_label[i] = label\n",
        "    \n",
        "diz_label"
      ],
      "metadata": {
        "colab": {
          "base_uri": "https://localhost:8080/"
        },
        "id": "cEro4tseNX5O",
        "outputId": "f4d86ba1-266e-4c3a-fc66-0f807eda6944"
      },
      "execution_count": 28,
      "outputs": [
        {
          "output_type": "execute_result",
          "data": {
            "text/plain": [
              "{0: 'None-of-the-above',\n",
              " 1: 'Counter-speech',\n",
              " 2: 'Xenophobia',\n",
              " 3: 'Misandry',\n",
              " 4: 'Misogyny',\n",
              " 5: 'Homophobia',\n",
              " 6: 'Hope-Speech',\n",
              " 7: 'Transphobic'}"
            ]
          },
          "metadata": {},
          "execution_count": 28
        }
      ]
    },
    {
      "cell_type": "code",
      "source": [
        "import nltk.data\n",
        "from sklearn.feature_extraction.text import TfidfVectorizer, CountVectorizer\n",
        "from sklearn.ensemble import VotingClassifier \n",
        "import pandas as pd\n",
        "import re\n",
        "import string\n",
        "from xgboost import XGBClassifier\n",
        "from sklearn.feature_extraction.text import TfidfTransformer\n",
        "\n",
        "\n",
        "count_vect = CountVectorizer()\n",
        "cv_vect= count_vect.fit(data_train[\"clean\"])\n",
        "cv_vect_train= count_vect.transform(data_train[\"clean\"])\n",
        "cv_vect_test= count_vect.transform(data_dev[\"clean\"])\n",
        "\n",
        "tfidf_transformer = TfidfTransformer()\n",
        "X_tfidf = tfidf_transformer.fit(cv_vect_train)\n",
        "X_tfidf_train = tfidf_transformer.transform(cv_vect_train)\n",
        "X_tfidf_test = tfidf_transformer.transform(cv_vect_test)\n"
      ],
      "metadata": {
        "id": "SKh8-KlwEwVz"
      },
      "execution_count": 29,
      "outputs": []
    },
    {
      "cell_type": "code",
      "source": [
        "from imblearn.over_sampling import SMOTE\n",
        "# Resampling the minority class. The strategy can be changed as required.\n",
        "sm = SMOTE(sampling_strategy='minority', random_state=42)\n",
        "# Fit the model to generate the data.\n",
        "\n",
        "strategy = {0:3720, 1:3720, 2:3720, 3:3720, 4:3720, 5:3720,6:3720,7:3720}\n",
        "oversample = SMOTE(sampling_strategy=strategy)\n",
        "X_train, y_train = oversample.fit_resample(X_tfidf_train, y_train1)"
      ],
      "metadata": {
        "id": "T2wUsPeUFTx7",
        "colab": {
          "base_uri": "https://localhost:8080/"
        },
        "outputId": "f47ea192-b6c5-4086-9073-09cb46dca5fd"
      },
      "execution_count": 30,
      "outputs": [
        {
          "output_type": "stream",
          "name": "stderr",
          "text": [
            "/usr/local/lib/python3.7/dist-packages/imblearn/utils/_validation.py:300: UserWarning: After over-sampling, the number of samples (3720) in class 0 will be larger than the number of samples in the majority class (class #5 -> 919)\n",
            "  f\"After over-sampling, the number of samples ({n_samples})\"\n",
            "/usr/local/lib/python3.7/dist-packages/imblearn/utils/_validation.py:300: UserWarning: After over-sampling, the number of samples (3720) in class 1 will be larger than the number of samples in the majority class (class #5 -> 919)\n",
            "  f\"After over-sampling, the number of samples ({n_samples})\"\n",
            "/usr/local/lib/python3.7/dist-packages/imblearn/utils/_validation.py:300: UserWarning: After over-sampling, the number of samples (3720) in class 2 will be larger than the number of samples in the majority class (class #5 -> 919)\n",
            "  f\"After over-sampling, the number of samples ({n_samples})\"\n",
            "/usr/local/lib/python3.7/dist-packages/imblearn/utils/_validation.py:300: UserWarning: After over-sampling, the number of samples (3720) in class 3 will be larger than the number of samples in the majority class (class #5 -> 919)\n",
            "  f\"After over-sampling, the number of samples ({n_samples})\"\n",
            "/usr/local/lib/python3.7/dist-packages/imblearn/utils/_validation.py:300: UserWarning: After over-sampling, the number of samples (3720) in class 4 will be larger than the number of samples in the majority class (class #5 -> 919)\n",
            "  f\"After over-sampling, the number of samples ({n_samples})\"\n",
            "/usr/local/lib/python3.7/dist-packages/imblearn/utils/_validation.py:300: UserWarning: After over-sampling, the number of samples (3720) in class 5 will be larger than the number of samples in the majority class (class #5 -> 919)\n",
            "  f\"After over-sampling, the number of samples ({n_samples})\"\n",
            "/usr/local/lib/python3.7/dist-packages/imblearn/utils/_validation.py:300: UserWarning: After over-sampling, the number of samples (3720) in class 6 will be larger than the number of samples in the majority class (class #5 -> 919)\n",
            "  f\"After over-sampling, the number of samples ({n_samples})\"\n",
            "/usr/local/lib/python3.7/dist-packages/imblearn/utils/_validation.py:300: UserWarning: After over-sampling, the number of samples (3720) in class 7 will be larger than the number of samples in the majority class (class #5 -> 919)\n",
            "  f\"After over-sampling, the number of samples ({n_samples})\"\n"
          ]
        }
      ]
    },
    {
      "cell_type": "code",
      "source": [
        "from sklearn.neural_network import MLPClassifier\n",
        "mlp=MLPClassifier( max_iter=300,activation = 'relu',solver='adam',random_state=1)\n",
        "mlp.fit(X_train,  y_train)\n",
        "y_pred=mlp.predict(X_tfidf_test)\n",
        "\n",
        "# print(classification_report(y_test1, y_pred)) \n",
        "# accuracy = accuracy_score(y_test1, y_pred)\n",
        "# print(\"Test Accuracy:\", round(accuracy*100, 4))"
      ],
      "metadata": {
        "id": "Wg_bdyX9x0_l"
      },
      "execution_count": null,
      "outputs": []
    },
    {
      "cell_type": "code",
      "source": [
        "y_prediction =np.argmax(y_pred,axis=1)\n",
        "\n",
        "from sklearn.preprocessing import LabelEncoder\n",
        "from sklearn.preprocessing import LabelEncoder\n",
        "le = LabelEncoder()\n",
        "\n",
        "label = le.fit(data_train['label'])\n",
        "label_t=le.fit_transform(data_train['label'])\n",
        "prediction1=le.inverse_transform(y_prediction)\n",
        "prediction1\n",
        "\n"
      ],
      "metadata": {
        "id": "FAgj4Fj68jhz"
      },
      "execution_count": null,
      "outputs": []
    },
    {
      "cell_type": "code",
      "source": [
        "y_pred_df = pd.DataFrame(data=prediction1, columns=['prediction1'])\n",
        "tamil = pd.DataFrame()\n",
        "tamil['Text'] = data_dev['Text']\n",
        "tamil['Label'] = prediction1\n",
        "tamil.to_csv('MUCIC_tamil1.tsv',sep='\\t',index = None)\n",
        "tamil.head()"
      ],
      "metadata": {
        "colab": {
          "base_uri": "https://localhost:8080/",
          "height": 206
        },
        "id": "erPnAQFS8mEh",
        "outputId": "4f7584c0-a9cd-4abe-cea2-255b3f469172"
      },
      "execution_count": null,
      "outputs": [
        {
          "output_type": "execute_result",
          "data": {
            "text/html": [
              "\n",
              "  <div id=\"df-f07622e6-a86b-42d4-a100-9326c076e499\">\n",
              "    <div class=\"colab-df-container\">\n",
              "      <div>\n",
              "<style scoped>\n",
              "    .dataframe tbody tr th:only-of-type {\n",
              "        vertical-align: middle;\n",
              "    }\n",
              "\n",
              "    .dataframe tbody tr th {\n",
              "        vertical-align: top;\n",
              "    }\n",
              "\n",
              "    .dataframe thead th {\n",
              "        text-align: right;\n",
              "    }\n",
              "</style>\n",
              "<table border=\"1\" class=\"dataframe\">\n",
              "  <thead>\n",
              "    <tr style=\"text-align: right;\">\n",
              "      <th></th>\n",
              "      <th>Text</th>\n",
              "      <th>Label</th>\n",
              "    </tr>\n",
              "  </thead>\n",
              "  <tbody>\n",
              "    <tr>\n",
              "      <th>0</th>\n",
              "      <td>அந்த தமிழன் ஒரு சாதிவெறி</td>\n",
              "      <td>Counter-speech</td>\n",
              "    </tr>\n",
              "    <tr>\n",
              "      <th>1</th>\n",
              "      <td>இந்த வந்தேரிக்கு தகுந்த பாடம் கற்பிப்பார்கள் தமிழர்கள்.</td>\n",
              "      <td>Counter-speech</td>\n",
              "    </tr>\n",
              "    <tr>\n",
              "      <th>2</th>\n",
              "      <td>எச்ச ராஜா நீ ஒரு மானங்கெட்ட தாயை விட நீ</td>\n",
              "      <td>Misandry</td>\n",
              "    </tr>\n",
              "    <tr>\n",
              "      <th>3</th>\n",
              "      <td>பணம் இருக்கும் இடத்தில் கேட்பது தவறு  இல்லை பணம் இல்லாத இடத்தில் கேட்பதுதான் தவறு</td>\n",
              "      <td>Counter-speech</td>\n",
              "    </tr>\n",
              "    <tr>\n",
              "      <th>4</th>\n",
              "      <td>சக தோழியாக நினைத்து ஆதரவு தாருங்கள் நண்பர்களே!!!!  பயனுள்ள வகையில் தகவல்களைபதிவிடுகிறேனன் பார்த்து விட்டு ஆதரவு தாருங்கள்...</td>\n",
              "      <td>Counter-speech</td>\n",
              "    </tr>\n",
              "  </tbody>\n",
              "</table>\n",
              "</div>\n",
              "      <button class=\"colab-df-convert\" onclick=\"convertToInteractive('df-f07622e6-a86b-42d4-a100-9326c076e499')\"\n",
              "              title=\"Convert this dataframe to an interactive table.\"\n",
              "              style=\"display:none;\">\n",
              "        \n",
              "  <svg xmlns=\"http://www.w3.org/2000/svg\" height=\"24px\"viewBox=\"0 0 24 24\"\n",
              "       width=\"24px\">\n",
              "    <path d=\"M0 0h24v24H0V0z\" fill=\"none\"/>\n",
              "    <path d=\"M18.56 5.44l.94 2.06.94-2.06 2.06-.94-2.06-.94-.94-2.06-.94 2.06-2.06.94zm-11 1L8.5 8.5l.94-2.06 2.06-.94-2.06-.94L8.5 2.5l-.94 2.06-2.06.94zm10 10l.94 2.06.94-2.06 2.06-.94-2.06-.94-.94-2.06-.94 2.06-2.06.94z\"/><path d=\"M17.41 7.96l-1.37-1.37c-.4-.4-.92-.59-1.43-.59-.52 0-1.04.2-1.43.59L10.3 9.45l-7.72 7.72c-.78.78-.78 2.05 0 2.83L4 21.41c.39.39.9.59 1.41.59.51 0 1.02-.2 1.41-.59l7.78-7.78 2.81-2.81c.8-.78.8-2.07 0-2.86zM5.41 20L4 18.59l7.72-7.72 1.47 1.35L5.41 20z\"/>\n",
              "  </svg>\n",
              "      </button>\n",
              "      \n",
              "  <style>\n",
              "    .colab-df-container {\n",
              "      display:flex;\n",
              "      flex-wrap:wrap;\n",
              "      gap: 12px;\n",
              "    }\n",
              "\n",
              "    .colab-df-convert {\n",
              "      background-color: #E8F0FE;\n",
              "      border: none;\n",
              "      border-radius: 50%;\n",
              "      cursor: pointer;\n",
              "      display: none;\n",
              "      fill: #1967D2;\n",
              "      height: 32px;\n",
              "      padding: 0 0 0 0;\n",
              "      width: 32px;\n",
              "    }\n",
              "\n",
              "    .colab-df-convert:hover {\n",
              "      background-color: #E2EBFA;\n",
              "      box-shadow: 0px 1px 2px rgba(60, 64, 67, 0.3), 0px 1px 3px 1px rgba(60, 64, 67, 0.15);\n",
              "      fill: #174EA6;\n",
              "    }\n",
              "\n",
              "    [theme=dark] .colab-df-convert {\n",
              "      background-color: #3B4455;\n",
              "      fill: #D2E3FC;\n",
              "    }\n",
              "\n",
              "    [theme=dark] .colab-df-convert:hover {\n",
              "      background-color: #434B5C;\n",
              "      box-shadow: 0px 1px 3px 1px rgba(0, 0, 0, 0.15);\n",
              "      filter: drop-shadow(0px 1px 2px rgba(0, 0, 0, 0.3));\n",
              "      fill: #FFFFFF;\n",
              "    }\n",
              "  </style>\n",
              "\n",
              "      <script>\n",
              "        const buttonEl =\n",
              "          document.querySelector('#df-f07622e6-a86b-42d4-a100-9326c076e499 button.colab-df-convert');\n",
              "        buttonEl.style.display =\n",
              "          google.colab.kernel.accessAllowed ? 'block' : 'none';\n",
              "\n",
              "        async function convertToInteractive(key) {\n",
              "          const element = document.querySelector('#df-f07622e6-a86b-42d4-a100-9326c076e499');\n",
              "          const dataTable =\n",
              "            await google.colab.kernel.invokeFunction('convertToInteractive',\n",
              "                                                     [key], {});\n",
              "          if (!dataTable) return;\n",
              "\n",
              "          const docLinkHtml = 'Like what you see? Visit the ' +\n",
              "            '<a target=\"_blank\" href=https://colab.research.google.com/notebooks/data_table.ipynb>data table notebook</a>'\n",
              "            + ' to learn more about interactive tables.';\n",
              "          element.innerHTML = '';\n",
              "          dataTable['output_type'] = 'display_data';\n",
              "          await google.colab.output.renderOutput(dataTable, element);\n",
              "          const docLink = document.createElement('div');\n",
              "          docLink.innerHTML = docLinkHtml;\n",
              "          element.appendChild(docLink);\n",
              "        }\n",
              "      </script>\n",
              "    </div>\n",
              "  </div>\n",
              "  "
            ],
            "text/plain": [
              "                                                                                                                           Text           Label\n",
              "0                                                                                                      அந்த தமிழன் ஒரு சாதிவெறி  Counter-speech\n",
              "1                                                                       இந்த வந்தேரிக்கு தகுந்த பாடம் கற்பிப்பார்கள் தமிழர்கள்.  Counter-speech\n",
              "2                                                                                       எச்ச ராஜா நீ ஒரு மானங்கெட்ட தாயை விட நீ        Misandry\n",
              "3                                             பணம் இருக்கும் இடத்தில் கேட்பது தவறு  இல்லை பணம் இல்லாத இடத்தில் கேட்பதுதான் தவறு  Counter-speech\n",
              "4  சக தோழியாக நினைத்து ஆதரவு தாருங்கள் நண்பர்களே!!!!  பயனுள்ள வகையில் தகவல்களைபதிவிடுகிறேனன் பார்த்து விட்டு ஆதரவு தாருங்கள்...  Counter-speech"
            ]
          },
          "metadata": {},
          "execution_count": 25
        }
      ]
    },
    {
      "cell_type": "code",
      "source": [
        "len(data_dev),len(tamil)"
      ],
      "metadata": {
        "colab": {
          "base_uri": "https://localhost:8080/"
        },
        "id": "GMk5X8Ii9584",
        "outputId": "82f56bb6-7164-4c94-dce8-3b333143fe58"
      },
      "execution_count": null,
      "outputs": [
        {
          "output_type": "execute_result",
          "data": {
            "text/plain": [
              "(699, 699)"
            ]
          },
          "metadata": {},
          "execution_count": 32
        }
      ]
    },
    {
      "cell_type": "markdown",
      "source": [
        "Using Character n_grams "
      ],
      "metadata": {
        "id": "VYslcKeBY7gh"
      }
    },
    {
      "cell_type": "code",
      "source": [
        "tfidf_vect_ngram_chars = TfidfVectorizer(analyzer='char', ngram_range=(2,3))\n",
        "tfidf_vect_ngram_chars.fit(data_train['clean'])\n",
        "xtrain_tfidf_ngram_chars =  tfidf_vect_ngram_chars.transform(data_train['clean']) \n",
        "xvalid_tfidf_ngram_chars =  tfidf_vect_ngram_chars.transform(data_dev['clean']) \n",
        "\n",
        "\n",
        "from sklearn.neural_network import MLPClassifier\n",
        "mlp=MLPClassifier(random_state=1, max_iter=300)\n",
        "mlp.fit(xtrain_tfidf_ngram_chars,y_train1)\n",
        "y_pred_n=mlp.predict(xvalid_tfidf_ngram_chars)"
      ],
      "metadata": {
        "id": "DZwwCS7l8Y_i"
      },
      "execution_count": null,
      "outputs": []
    },
    {
      "cell_type": "code",
      "source": [
        "y_prediction_nn =np.argmax(y_pred_n,axis=1)\n",
        "\n",
        "from sklearn.preprocessing import LabelEncoder\n",
        "from sklearn.preprocessing import LabelEncoder\n",
        "le = LabelEncoder()\n",
        "\n",
        "label = le.fit(data_train['label'])\n",
        "label_t=le.fit_transform(data_train['label'])\n",
        "prediction2=le.inverse_transform(y_prediction_nn)\n",
        "prediction2\n"
      ],
      "metadata": {
        "id": "XLC_CMKk1M4c"
      },
      "execution_count": null,
      "outputs": []
    },
    {
      "cell_type": "code",
      "source": [
        "y_pred_df = pd.DataFrame(data=prediction2, columns=['prediction2'])\n",
        "tamil = pd.DataFrame()\n",
        "tamil['Text'] = data_dev['Text']\n",
        "tamil['Label'] = prediction2\n",
        "tamil.to_csv('MUCIC_tamil2.tsv',sep='\\t',index = None)\n",
        "tamil.head()"
      ],
      "metadata": {
        "colab": {
          "base_uri": "https://localhost:8080/",
          "height": 206
        },
        "id": "1I3423zA1M71",
        "outputId": "d28defcc-d564-40b5-973b-cbd5e79d4df3"
      },
      "execution_count": null,
      "outputs": [
        {
          "output_type": "execute_result",
          "data": {
            "text/html": [
              "\n",
              "  <div id=\"df-9c64b2d9-965f-4e94-a26e-f5d8a416903a\">\n",
              "    <div class=\"colab-df-container\">\n",
              "      <div>\n",
              "<style scoped>\n",
              "    .dataframe tbody tr th:only-of-type {\n",
              "        vertical-align: middle;\n",
              "    }\n",
              "\n",
              "    .dataframe tbody tr th {\n",
              "        vertical-align: top;\n",
              "    }\n",
              "\n",
              "    .dataframe thead th {\n",
              "        text-align: right;\n",
              "    }\n",
              "</style>\n",
              "<table border=\"1\" class=\"dataframe\">\n",
              "  <thead>\n",
              "    <tr style=\"text-align: right;\">\n",
              "      <th></th>\n",
              "      <th>Text</th>\n",
              "      <th>Label</th>\n",
              "    </tr>\n",
              "  </thead>\n",
              "  <tbody>\n",
              "    <tr>\n",
              "      <th>0</th>\n",
              "      <td>அந்த தமிழன் ஒரு சாதிவெறி</td>\n",
              "      <td>None-of-the-above</td>\n",
              "    </tr>\n",
              "    <tr>\n",
              "      <th>1</th>\n",
              "      <td>இந்த வந்தேரிக்கு தகுந்த பாடம் கற்பிப்பார்கள் தமிழர்கள்.</td>\n",
              "      <td>Transphobic</td>\n",
              "    </tr>\n",
              "    <tr>\n",
              "      <th>2</th>\n",
              "      <td>எச்ச ராஜா நீ ஒரு மானங்கெட்ட தாயை விட நீ</td>\n",
              "      <td>Misandry</td>\n",
              "    </tr>\n",
              "    <tr>\n",
              "      <th>3</th>\n",
              "      <td>பணம் இருக்கும் இடத்தில் கேட்பது தவறு  இல்லை பணம் இல்லாத இடத்தில் கேட்பதுதான் தவறு</td>\n",
              "      <td>Counter-speech</td>\n",
              "    </tr>\n",
              "    <tr>\n",
              "      <th>4</th>\n",
              "      <td>சக தோழியாக நினைத்து ஆதரவு தாருங்கள் நண்பர்களே!!!!  பயனுள்ள வகையில் தகவல்களைபதிவிடுகிறேனன் பார்த்து விட்டு ஆதரவு தாருங்கள்...</td>\n",
              "      <td>None-of-the-above</td>\n",
              "    </tr>\n",
              "  </tbody>\n",
              "</table>\n",
              "</div>\n",
              "      <button class=\"colab-df-convert\" onclick=\"convertToInteractive('df-9c64b2d9-965f-4e94-a26e-f5d8a416903a')\"\n",
              "              title=\"Convert this dataframe to an interactive table.\"\n",
              "              style=\"display:none;\">\n",
              "        \n",
              "  <svg xmlns=\"http://www.w3.org/2000/svg\" height=\"24px\"viewBox=\"0 0 24 24\"\n",
              "       width=\"24px\">\n",
              "    <path d=\"M0 0h24v24H0V0z\" fill=\"none\"/>\n",
              "    <path d=\"M18.56 5.44l.94 2.06.94-2.06 2.06-.94-2.06-.94-.94-2.06-.94 2.06-2.06.94zm-11 1L8.5 8.5l.94-2.06 2.06-.94-2.06-.94L8.5 2.5l-.94 2.06-2.06.94zm10 10l.94 2.06.94-2.06 2.06-.94-2.06-.94-.94-2.06-.94 2.06-2.06.94z\"/><path d=\"M17.41 7.96l-1.37-1.37c-.4-.4-.92-.59-1.43-.59-.52 0-1.04.2-1.43.59L10.3 9.45l-7.72 7.72c-.78.78-.78 2.05 0 2.83L4 21.41c.39.39.9.59 1.41.59.51 0 1.02-.2 1.41-.59l7.78-7.78 2.81-2.81c.8-.78.8-2.07 0-2.86zM5.41 20L4 18.59l7.72-7.72 1.47 1.35L5.41 20z\"/>\n",
              "  </svg>\n",
              "      </button>\n",
              "      \n",
              "  <style>\n",
              "    .colab-df-container {\n",
              "      display:flex;\n",
              "      flex-wrap:wrap;\n",
              "      gap: 12px;\n",
              "    }\n",
              "\n",
              "    .colab-df-convert {\n",
              "      background-color: #E8F0FE;\n",
              "      border: none;\n",
              "      border-radius: 50%;\n",
              "      cursor: pointer;\n",
              "      display: none;\n",
              "      fill: #1967D2;\n",
              "      height: 32px;\n",
              "      padding: 0 0 0 0;\n",
              "      width: 32px;\n",
              "    }\n",
              "\n",
              "    .colab-df-convert:hover {\n",
              "      background-color: #E2EBFA;\n",
              "      box-shadow: 0px 1px 2px rgba(60, 64, 67, 0.3), 0px 1px 3px 1px rgba(60, 64, 67, 0.15);\n",
              "      fill: #174EA6;\n",
              "    }\n",
              "\n",
              "    [theme=dark] .colab-df-convert {\n",
              "      background-color: #3B4455;\n",
              "      fill: #D2E3FC;\n",
              "    }\n",
              "\n",
              "    [theme=dark] .colab-df-convert:hover {\n",
              "      background-color: #434B5C;\n",
              "      box-shadow: 0px 1px 3px 1px rgba(0, 0, 0, 0.15);\n",
              "      filter: drop-shadow(0px 1px 2px rgba(0, 0, 0, 0.3));\n",
              "      fill: #FFFFFF;\n",
              "    }\n",
              "  </style>\n",
              "\n",
              "      <script>\n",
              "        const buttonEl =\n",
              "          document.querySelector('#df-9c64b2d9-965f-4e94-a26e-f5d8a416903a button.colab-df-convert');\n",
              "        buttonEl.style.display =\n",
              "          google.colab.kernel.accessAllowed ? 'block' : 'none';\n",
              "\n",
              "        async function convertToInteractive(key) {\n",
              "          const element = document.querySelector('#df-9c64b2d9-965f-4e94-a26e-f5d8a416903a');\n",
              "          const dataTable =\n",
              "            await google.colab.kernel.invokeFunction('convertToInteractive',\n",
              "                                                     [key], {});\n",
              "          if (!dataTable) return;\n",
              "\n",
              "          const docLinkHtml = 'Like what you see? Visit the ' +\n",
              "            '<a target=\"_blank\" href=https://colab.research.google.com/notebooks/data_table.ipynb>data table notebook</a>'\n",
              "            + ' to learn more about interactive tables.';\n",
              "          element.innerHTML = '';\n",
              "          dataTable['output_type'] = 'display_data';\n",
              "          await google.colab.output.renderOutput(dataTable, element);\n",
              "          const docLink = document.createElement('div');\n",
              "          docLink.innerHTML = docLinkHtml;\n",
              "          element.appendChild(docLink);\n",
              "        }\n",
              "      </script>\n",
              "    </div>\n",
              "  </div>\n",
              "  "
            ],
            "text/plain": [
              "                                                                                                                           Text              Label\n",
              "0                                                                                                      அந்த தமிழன் ஒரு சாதிவெறி  None-of-the-above\n",
              "1                                                                       இந்த வந்தேரிக்கு தகுந்த பாடம் கற்பிப்பார்கள் தமிழர்கள்.        Transphobic\n",
              "2                                                                                       எச்ச ராஜா நீ ஒரு மானங்கெட்ட தாயை விட நீ           Misandry\n",
              "3                                             பணம் இருக்கும் இடத்தில் கேட்பது தவறு  இல்லை பணம் இல்லாத இடத்தில் கேட்பதுதான் தவறு     Counter-speech\n",
              "4  சக தோழியாக நினைத்து ஆதரவு தாருங்கள் நண்பர்களே!!!!  பயனுள்ள வகையில் தகவல்களைபதிவிடுகிறேனன் பார்த்து விட்டு ஆதரவு தாருங்கள்...  None-of-the-above"
            ]
          },
          "metadata": {},
          "execution_count": 47
        }
      ]
    },
    {
      "cell_type": "markdown",
      "source": [
        "other experiments"
      ],
      "metadata": {
        "id": "w5EXMuTcZGCj"
      }
    },
    {
      "cell_type": "code",
      "source": [
        ""
      ],
      "metadata": {
        "id": "4cfpYSKm1NB6"
      },
      "execution_count": null,
      "outputs": []
    },
    {
      "cell_type": "code",
      "source": [
        "\n",
        "\n",
        "classifier = MajorityVotingClassifier(\n",
        "    clusterer = FixedLabelSpaceClusterer(clusters = [[1,2,3], [0, 2, 5], [4, 5]]),\n",
        "    classifier = ClassifierChain(classifier=GaussianNB())\n",
        ")\n",
        "classifier.fit(X_train, y_train)"
      ],
      "metadata": {
        "colab": {
          "base_uri": "https://localhost:8080/"
        },
        "id": "itV75L7bzUDn",
        "outputId": "0ea18ab1-29c3-4cc4-ef7f-c4ca68262d85"
      },
      "execution_count": null,
      "outputs": [
        {
          "output_type": "execute_result",
          "data": {
            "text/plain": [
              "MajorityVotingClassifier(classifier=ClassifierChain(classifier=GaussianNB(),\n",
              "                                                    require_dense=[True, True]),\n",
              "                         clusterer=FixedLabelSpaceClusterer(clusters=[[1, 2, 3],\n",
              "                                                                      [0, 2, 5],\n",
              "                                                                      [4, 5]]),\n",
              "                         require_dense=[False, False])"
            ]
          },
          "metadata": {},
          "execution_count": 30
        }
      ]
    },
    {
      "cell_type": "code",
      "source": [
        ""
      ],
      "metadata": {
        "id": "MJzdnfpGzwHt"
      },
      "execution_count": null,
      "outputs": []
    },
    {
      "cell_type": "code",
      "source": [
        "y_pred_mul = classifier.predict(X_tfidf_test)\n",
        "print(classification_report(y_test1, y_pred_mul)) \n",
        "accuracy = accuracy_score(y_test1, y_pred_mul)\n",
        "print(\"Test Accuracy:\", round(accuracy*100, 4))"
      ],
      "metadata": {
        "colab": {
          "base_uri": "https://localhost:8080/"
        },
        "id": "m_1uF0Pvx08U",
        "outputId": "c69b0de2-a6b7-441f-c50d-bcddc3836b6d"
      },
      "execution_count": null,
      "outputs": [
        {
          "output_type": "stream",
          "name": "stdout",
          "text": [
            "              precision    recall  f1-score   support\n",
            "\n",
            "           0       0.05      0.44      0.09        36\n",
            "           1       0.05      0.38      0.10         8\n",
            "           2       0.00      0.00      0.00        11\n",
            "           3       0.25      0.42      0.32       104\n",
            "           4       0.04      0.38      0.07        24\n",
            "           5       0.67      0.20      0.30       346\n",
            "           6       0.00      0.00      0.00         2\n",
            "           7       0.00      0.00      0.00        29\n",
            "\n",
            "   micro avg       0.16      0.25      0.19       560\n",
            "   macro avg       0.13      0.23      0.11       560\n",
            "weighted avg       0.46      0.25      0.26       560\n",
            " samples avg       0.19      0.25      0.21       560\n",
            "\n",
            "Test Accuracy: 15.0\n"
          ]
        },
        {
          "output_type": "stream",
          "name": "stderr",
          "text": [
            "/usr/local/lib/python3.7/dist-packages/sklearn/metrics/_classification.py:1318: UndefinedMetricWarning: Precision and F-score are ill-defined and being set to 0.0 in labels with no predicted samples. Use `zero_division` parameter to control this behavior.\n",
            "  _warn_prf(average, modifier, msg_start, len(result))\n",
            "/usr/local/lib/python3.7/dist-packages/sklearn/metrics/_classification.py:1318: UndefinedMetricWarning: Precision and F-score are ill-defined and being set to 0.0 in samples with no predicted labels. Use `zero_division` parameter to control this behavior.\n",
            "  _warn_prf(average, modifier, msg_start, len(result))\n"
          ]
        }
      ]
    },
    {
      "cell_type": "code",
      "source": [
        ""
      ],
      "metadata": {
        "id": "76Y6mOZNx1DC"
      },
      "execution_count": null,
      "outputs": []
    },
    {
      "cell_type": "code",
      "source": [
        ""
      ],
      "metadata": {
        "id": "YQChFOoHx1H6"
      },
      "execution_count": null,
      "outputs": []
    },
    {
      "cell_type": "code",
      "source": [
        ""
      ],
      "metadata": {
        "id": "ecQmqSotx1NU"
      },
      "execution_count": null,
      "outputs": []
    },
    {
      "cell_type": "markdown",
      "source": [
        "## **Model2**"
      ],
      "metadata": {
        "id": "ZMjXEX32yDHc"
      }
    },
    {
      "cell_type": "code",
      "source": [
        "tfidf_vect_ngram_chars = TfidfVectorizer(analyzer='char', ngram_range=(2,3))\n",
        "tfidf_vect_ngram_chars.fit(data_train['clean'])\n",
        "xtrain_tfidf_ngram_chars =  tfidf_vect_ngram_chars.transform(data_train['clean']) \n",
        "xvalid_tfidf_ngram_chars =  tfidf_vect_ngram_chars.transform(data_dev['clean']) "
      ],
      "metadata": {
        "id": "Nh-5AHkNx1Qx"
      },
      "execution_count": null,
      "outputs": []
    },
    {
      "cell_type": "code",
      "source": [
        "#using tfidf------------>\n",
        "\n",
        "\n",
        "mlp=MLPClassifier( max_iter=500,activation = 'relu',solver='adam',random_state=1)\n",
        "mlp.fit(xtrain_tfidf_ngram_chars,  y_train1)\n",
        "y_pred=mlp.predict(xvalid_tfidf_ngram_chars)\n",
        "\n",
        "print(classification_report(y_test1, y_pred)) \n",
        "accuracy = accuracy_score(y_test1, y_pred)\n",
        "print(\"Test Accuracy:\", round(accuracy*100, 4))"
      ],
      "metadata": {
        "colab": {
          "base_uri": "https://localhost:8080/"
        },
        "id": "uyb9Y1Ro0z8d",
        "outputId": "bbe30103-f6e4-41a0-b2b2-cc32cc438df5"
      },
      "execution_count": null,
      "outputs": [
        {
          "output_type": "stream",
          "name": "stdout",
          "text": [
            "              precision    recall  f1-score   support\n",
            "\n",
            "           0       0.25      0.03      0.05        36\n",
            "           1       0.00      0.00      0.00         8\n",
            "           2       0.00      0.00      0.00        11\n",
            "           3       0.69      0.46      0.55       104\n",
            "           4       0.00      0.00      0.00        24\n",
            "           5       0.78      0.81      0.79       346\n",
            "           6       0.00      0.00      0.00         2\n",
            "           7       1.00      0.03      0.07        29\n",
            "\n",
            "   micro avg       0.76      0.59      0.66       560\n",
            "   macro avg       0.34      0.17      0.18       560\n",
            "weighted avg       0.68      0.59      0.60       560\n",
            " samples avg       0.59      0.59      0.59       560\n",
            "\n",
            "Test Accuracy: 58.3929\n"
          ]
        },
        {
          "output_type": "stream",
          "name": "stderr",
          "text": [
            "/usr/local/lib/python3.7/dist-packages/sklearn/neural_network/_multilayer_perceptron.py:699: UserWarning: Training interrupted by user.\n",
            "  warnings.warn(\"Training interrupted by user.\")\n",
            "/usr/local/lib/python3.7/dist-packages/sklearn/metrics/_classification.py:1318: UndefinedMetricWarning: Precision and F-score are ill-defined and being set to 0.0 in labels with no predicted samples. Use `zero_division` parameter to control this behavior.\n",
            "  _warn_prf(average, modifier, msg_start, len(result))\n",
            "/usr/local/lib/python3.7/dist-packages/sklearn/metrics/_classification.py:1318: UndefinedMetricWarning: Precision and F-score are ill-defined and being set to 0.0 in samples with no predicted labels. Use `zero_division` parameter to control this behavior.\n",
            "  _warn_prf(average, modifier, msg_start, len(result))\n"
          ]
        }
      ]
    },
    {
      "cell_type": "code",
      "source": [
        "\n",
        "clf = RandomForestClassifier()\n",
        "clf.fit(X_train,y_train)\n",
        "\n",
        "y_pred=clf.predict(X_tfidf_test)\n",
        "print(classification_report(y_test1, y_pred)) \n",
        "accuracy = accuracy_score(y_test1, y_pred)\n",
        "print(\"Test Accuracy:\", round(accuracy*100, 4))"
      ],
      "metadata": {
        "id": "qSY_sij392TT",
        "colab": {
          "base_uri": "https://localhost:8080/"
        },
        "outputId": "8ef29ee8-8c80-4017-d897-689aa4fca34f"
      },
      "execution_count": null,
      "outputs": [
        {
          "output_type": "stream",
          "name": "stdout",
          "text": [
            "              precision    recall  f1-score   support\n",
            "\n",
            "           0       0.00      0.00      0.00        36\n",
            "           1       0.67      0.25      0.36         8\n",
            "           2       0.00      0.00      0.00        11\n",
            "           3       0.57      0.40      0.47       104\n",
            "           4       0.67      0.08      0.15        24\n",
            "           5       0.80      0.74      0.77       346\n",
            "           6       0.00      0.00      0.00         2\n",
            "           7       1.00      0.07      0.13        29\n",
            "\n",
            "   micro avg       0.75      0.54      0.63       560\n",
            "   macro avg       0.46      0.19      0.24       560\n",
            "weighted avg       0.69      0.54      0.58       560\n",
            " samples avg       0.54      0.54      0.54       560\n",
            "\n",
            "Test Accuracy: 54.4643\n"
          ]
        },
        {
          "output_type": "stream",
          "name": "stderr",
          "text": [
            "/usr/local/lib/python3.7/dist-packages/sklearn/metrics/_classification.py:1318: UndefinedMetricWarning: Precision and F-score are ill-defined and being set to 0.0 in labels with no predicted samples. Use `zero_division` parameter to control this behavior.\n",
            "  _warn_prf(average, modifier, msg_start, len(result))\n",
            "/usr/local/lib/python3.7/dist-packages/sklearn/metrics/_classification.py:1318: UndefinedMetricWarning: Precision and F-score are ill-defined and being set to 0.0 in samples with no predicted labels. Use `zero_division` parameter to control this behavior.\n",
            "  _warn_prf(average, modifier, msg_start, len(result))\n"
          ]
        }
      ]
    },
    {
      "cell_type": "code",
      "source": [
        "#using tfidf------------>\n",
        "from sklearn.neural_network import MLPClassifier\n",
        "mlp=MLPClassifier( max_iter=500,activation = 'relu',solver='adam',random_state=1)\n",
        "mlp.fit(xtrain_tfidf_ngram_chars, xvalid_tfidf_ngram_chars )\n",
        "y_pred=mlp.predict(X_tfidf_test)\n",
        "\n",
        "print(classification_report(y_test1, y_pred)) \n",
        "accuracy = accuracy_score(y_test1, y_pred)\n",
        "print(\"Test Accuracy:\", round(accuracy*100, 4))"
      ],
      "metadata": {
        "colab": {
          "base_uri": "https://localhost:8080/"
        },
        "id": "l35eMY0vJhd-",
        "outputId": "2853c0fc-799e-443b-c9bd-53c2e9e02ee3"
      },
      "execution_count": null,
      "outputs": [
        {
          "output_type": "stream",
          "name": "stdout",
          "text": [
            "              precision    recall  f1-score   support\n",
            "\n",
            "           0       0.12      0.11      0.12        36\n",
            "           1       0.33      0.25      0.29         8\n",
            "           2       0.11      0.36      0.16        11\n",
            "           3       0.52      0.44      0.48       104\n",
            "           4       0.15      0.17      0.16        24\n",
            "           5       0.75      0.66      0.70       346\n",
            "           6       0.50      0.50      0.50         2\n",
            "           7       0.29      0.24      0.26        29\n",
            "\n",
            "   micro avg       0.57      0.53      0.55       560\n",
            "   macro avg       0.35      0.34      0.33       560\n",
            "weighted avg       0.60      0.53      0.56       560\n",
            " samples avg       0.50      0.53      0.51       560\n",
            "\n",
            "Test Accuracy: 46.4286\n"
          ]
        },
        {
          "output_type": "stream",
          "name": "stderr",
          "text": [
            "/usr/local/lib/python3.7/dist-packages/sklearn/metrics/_classification.py:1318: UndefinedMetricWarning: Precision and F-score are ill-defined and being set to 0.0 in samples with no predicted labels. Use `zero_division` parameter to control this behavior.\n",
            "  _warn_prf(average, modifier, msg_start, len(result))\n"
          ]
        }
      ]
    },
    {
      "cell_type": "code",
      "source": [
        "\n",
        "le = LabelEncoder()\n",
        "\n",
        "label = le.fit(data_train[\"label\"])\n",
        "label_t=le.fit_transform(data_train[\"label\"])\n",
        "prediction=le.inverse_transform(prediction_num)"
      ],
      "metadata": {
        "id": "G6ZkB5mnt8rW"
      },
      "execution_count": null,
      "outputs": []
    },
    {
      "cell_type": "code",
      "source": [
        "# with char n_gram\n",
        "tfidf_vect_ngram_chars = TfidfVectorizer(analyzer='char', token_pattern=r'\\w{1,}', ngram_range=(1,3), max_features=5000)\n",
        "tfidf_vect_ngram_chars.fit(data_train['clean'])\n",
        "xtrain_tfidf_ngram_chars =  tfidf_vect_ngram_chars.transform(data_train['clean']) \n",
        "xvalid_tfidf_ngram_chars =  tfidf_vect_ngram_chars.transform(data_dev['clean']) \n",
        "\n",
        "from sklearn.neural_network import MLPClassifier\n",
        "mlp=MLPClassifier(hidden_layer_sizes=(150,100,50), max_iter=300,activation = 'relu',solver='adam',random_state=1)\n",
        "mlp.fit(xtrain_tfidf_ngram_chars,y_train1)\n",
        "y_pred=mlp.predict(xvalid_tfidf_ngram_chars)\n",
        "\n",
        "print(classification_report(y_test1, y_pred)) \n",
        "accuracy = accuracy_score(y_test1, y_pred)\n",
        "print(\"Test Accuracy:\", round(accuracy*100, 4))"
      ],
      "metadata": {
        "colab": {
          "base_uri": "https://localhost:8080/"
        },
        "id": "HrEh3sAF9SBe",
        "outputId": "facd7de7-538a-433d-d152-0989de0f2269"
      },
      "execution_count": null,
      "outputs": [
        {
          "output_type": "stream",
          "name": "stderr",
          "text": [
            "/usr/local/lib/python3.7/dist-packages/sklearn/feature_extraction/text.py:547: UserWarning: The parameter 'token_pattern' will not be used since 'analyzer' != 'word'\n",
            "  \"The parameter 'token_pattern' will not be used\"\n"
          ]
        },
        {
          "output_type": "stream",
          "name": "stdout",
          "text": [
            "              precision    recall  f1-score   support\n",
            "\n",
            "           0       0.29      0.11      0.16        36\n",
            "           1       0.33      0.25      0.29         8\n",
            "           2       0.22      0.18      0.20        11\n",
            "           3       0.55      0.52      0.53       104\n",
            "           4       0.43      0.12      0.19        24\n",
            "           5       0.78      0.77      0.78       346\n",
            "           6       0.00      0.00      0.00         2\n",
            "           7       0.56      0.17      0.26        29\n",
            "\n",
            "   micro avg       0.69      0.60      0.65       560\n",
            "   macro avg       0.39      0.27      0.30       560\n",
            "weighted avg       0.66      0.60      0.62       560\n",
            " samples avg       0.59      0.60      0.60       560\n",
            "\n",
            "Test Accuracy: 58.2143\n"
          ]
        },
        {
          "output_type": "stream",
          "name": "stderr",
          "text": [
            "/usr/local/lib/python3.7/dist-packages/sklearn/neural_network/_multilayer_perceptron.py:699: UserWarning: Training interrupted by user.\n",
            "  warnings.warn(\"Training interrupted by user.\")\n",
            "/usr/local/lib/python3.7/dist-packages/sklearn/metrics/_classification.py:1318: UndefinedMetricWarning: Precision and F-score are ill-defined and being set to 0.0 in labels with no predicted samples. Use `zero_division` parameter to control this behavior.\n",
            "  _warn_prf(average, modifier, msg_start, len(result))\n",
            "/usr/local/lib/python3.7/dist-packages/sklearn/metrics/_classification.py:1318: UndefinedMetricWarning: Precision and F-score are ill-defined and being set to 0.0 in samples with no predicted labels. Use `zero_division` parameter to control this behavior.\n",
            "  _warn_prf(average, modifier, msg_start, len(result))\n"
          ]
        }
      ]
    },
    {
      "cell_type": "code",
      "source": [
        "from sklearn.neural_network import MLPClassifier\n",
        "mlp=MLPClassifier()\n",
        "mlp.fit(X_tfidf_train,y_train1)\n",
        "y_pred=mlp.predict(X_tfidf_test)\n",
        "\n",
        "print(classification_report(y_test1, y_pred)) \n",
        "accuracy = accuracy_score(y_test1, y_pred)\n",
        "print(\"Test Accuracy:\", round(accuracy*100, 4))"
      ],
      "metadata": {
        "id": "hockj8WMIkNb",
        "colab": {
          "base_uri": "https://localhost:8080/"
        },
        "outputId": "14bac7d0-2de7-4445-fc32-a316e83b0d83"
      },
      "execution_count": null,
      "outputs": [
        {
          "output_type": "stream",
          "name": "stdout",
          "text": [
            "              precision    recall  f1-score   support\n",
            "\n",
            "           0       0.33      0.19      0.25        36\n",
            "           1       0.50      0.25      0.33         8\n",
            "           2       0.18      0.18      0.18        11\n",
            "           3       0.49      0.48      0.49       104\n",
            "           4       0.12      0.08      0.10        24\n",
            "           5       0.76      0.72      0.74       346\n",
            "           6       0.00      0.00      0.00         2\n",
            "           7       0.33      0.14      0.20        29\n",
            "\n",
            "   micro avg       0.64      0.57      0.60       560\n",
            "   macro avg       0.34      0.26      0.29       560\n",
            "weighted avg       0.62      0.57      0.59       560\n",
            " samples avg       0.55      0.57      0.55       560\n",
            "\n",
            "Test Accuracy: 53.0357\n"
          ]
        },
        {
          "output_type": "stream",
          "name": "stderr",
          "text": [
            "/usr/local/lib/python3.7/dist-packages/sklearn/neural_network/_multilayer_perceptron.py:696: ConvergenceWarning: Stochastic Optimizer: Maximum iterations (200) reached and the optimization hasn't converged yet.\n",
            "  ConvergenceWarning,\n",
            "/usr/local/lib/python3.7/dist-packages/sklearn/metrics/_classification.py:1318: UndefinedMetricWarning: Precision and F-score are ill-defined and being set to 0.0 in labels with no predicted samples. Use `zero_division` parameter to control this behavior.\n",
            "  _warn_prf(average, modifier, msg_start, len(result))\n",
            "/usr/local/lib/python3.7/dist-packages/sklearn/metrics/_classification.py:1318: UndefinedMetricWarning: Precision and F-score are ill-defined and being set to 0.0 in samples with no predicted labels. Use `zero_division` parameter to control this behavior.\n",
            "  _warn_prf(average, modifier, msg_start, len(result))\n"
          ]
        }
      ]
    },
    {
      "cell_type": "markdown",
      "source": [
        ""
      ],
      "metadata": {
        "id": "N0Z9Cjt-Hnpw"
      }
    },
    {
      "cell_type": "markdown",
      "source": [
        "## **Next model**"
      ],
      "metadata": {
        "id": "5nzJd1UYHnyZ"
      }
    },
    {
      "cell_type": "code",
      "source": [
        "#from sklearn.utils import resample\n",
        "#create two different dataframe of majority and minority class \n",
        "#df_majority = data_train[(data_train['label']=='Non_hope_speech')] \n",
        "#df_minority = data_train[(data_train['label']=='Hope_speech')] \n",
        "# upsample minority class\n",
        "#df_minority_upsampled = resample(df_minority,replace=True, n_samples= 20778, random_state=None)  # reproducible results\n",
        "# Combine majority class with upsampled minority class\n",
        "#df_upsampled = pd.concat([df_minority_upsampled, df_majority])"
      ],
      "metadata": {
        "id": "-WmC90l1irvp"
      },
      "execution_count": null,
      "outputs": []
    },
    {
      "cell_type": "code",
      "source": [
        "X_train=data_train['clean'].tolist()\n",
        "X_test =data_dev['clean'].tolist()\n",
        "\n",
        "\n"
      ],
      "metadata": {
        "id": "DCHmCNQ3NpIc"
      },
      "execution_count": null,
      "outputs": []
    },
    {
      "cell_type": "code",
      "source": [
        "len(X_train)"
      ],
      "metadata": {
        "id": "v3B9oeHGSFiQ",
        "colab": {
          "base_uri": "https://localhost:8080/"
        },
        "outputId": "df1e966d-b2fc-470b-cb6e-bf188b2eb7c6"
      },
      "execution_count": null,
      "outputs": [
        {
          "output_type": "execute_result",
          "data": {
            "text/plain": [
              "2240"
            ]
          },
          "metadata": {},
          "execution_count": 34
        }
      ]
    },
    {
      "cell_type": "code",
      "source": [
        "vocabulary_size = 25000\n",
        "tokenizer = Tokenizer(num_words= vocabulary_size)\n",
        "tokenizer.fit_on_texts(X_train)\n",
        "sequences = tokenizer.texts_to_sequences(X_train)\n",
        "X_train1 = pad_sequences(sequences, maxlen=500)\n",
        "sequences = tokenizer.texts_to_sequences(X_test)\n",
        "X_test1 = pad_sequences(sequences, maxlen=500)\n",
        "\n"
      ],
      "metadata": {
        "id": "GySe7mT1NvAl"
      },
      "execution_count": null,
      "outputs": []
    },
    {
      "cell_type": "code",
      "source": [
        "model = Sequential()\n",
        "model.add(Embedding(20000, 1000, input_length=500))\n",
        "model.add(Dropout(0.2))\n",
        "model.add(Conv1D(64, 2, activation='relu'))\n",
        "model.add(MaxPooling1D(pool_size=2))\n",
        "model.add(LSTM(100))\n",
        "model.add(Dense(8, activation='softmax'))"
      ],
      "metadata": {
        "id": "sVoDwRLHNy2l"
      },
      "execution_count": null,
      "outputs": []
    },
    {
      "cell_type": "code",
      "source": [
        "from sklearn.utils import class_weight"
      ],
      "metadata": {
        "id": "7DWCzhUbN4Yt"
      },
      "execution_count": null,
      "outputs": []
    },
    {
      "cell_type": "code",
      "source": [
        "\n",
        "model.compile(loss='categorical_crossentropy', optimizer='adam', metrics=['accuracy'])"
      ],
      "metadata": {
        "id": "DUv6xaUsN8-V"
      },
      "execution_count": null,
      "outputs": []
    },
    {
      "cell_type": "code",
      "source": [
        "\n",
        "model.fit(X_train1, y_train1,batch_size=254,\n",
        "                    epochs=100,\n",
        "                    verbose=1,\n",
        "                    validation_split=0.1,)"
      ],
      "metadata": {
        "id": "LdezBKoBOGss"
      },
      "execution_count": null,
      "outputs": []
    },
    {
      "cell_type": "code",
      "source": [
        "preds = model.predict(X_test1)"
      ],
      "metadata": {
        "id": "5eabgdEpOimk"
      },
      "execution_count": null,
      "outputs": []
    },
    {
      "cell_type": "code",
      "source": [
        ""
      ],
      "metadata": {
        "id": "SDzyYfnJyjBD"
      },
      "execution_count": null,
      "outputs": []
    },
    {
      "cell_type": "code",
      "source": [
        "prediction_num= np.argmax(preds,axis=1)\n",
        "#pred=np.argmax(preds,axis=1)\n",
        "#print(classification_report(np.argmax(y_test1,axis=1),np.argmax(preds,axis=1)))"
      ],
      "metadata": {
        "id": "ykXMrp6Cyjp9"
      },
      "execution_count": null,
      "outputs": []
    },
    {
      "cell_type": "code",
      "source": [
        "#y_prediction =np.argmax(y_pred,axis=1)\n",
        "\n",
        "from sklearn.preprocessing import LabelEncoder\n",
        "from sklearn.preprocessing import LabelEncoder\n",
        "le = LabelEncoder()\n",
        "\n",
        "label = le.fit(data_train['label'])\n",
        "label_t=le.fit_transform(data_train['label'])\n",
        "prediction3=le.inverse_transform(prediction_num)\n"
      ],
      "metadata": {
        "id": "0KqvclS5-ScU"
      },
      "execution_count": null,
      "outputs": []
    },
    {
      "cell_type": "code",
      "source": [
        "y_pred_df = pd.DataFrame(data=prediction3, columns=['prediction3'])\n",
        "tamil = pd.DataFrame()\n",
        "tamil['Text'] = data_dev['Text']\n",
        "tamil['Label'] = prediction3\n",
        "tamil.to_csv('MUCIC_tamil3.tsv',sep='\\t',index = None)\n",
        "tamil.head()"
      ],
      "metadata": {
        "colab": {
          "base_uri": "https://localhost:8080/",
          "height": 206
        },
        "id": "txNpXKi9y-jv",
        "outputId": "e262c655-8651-42cd-e99a-e8b22f9e5d54"
      },
      "execution_count": null,
      "outputs": [
        {
          "output_type": "execute_result",
          "data": {
            "text/html": [
              "\n",
              "  <div id=\"df-97e89096-9678-47f5-931b-dbba5f1feb0f\">\n",
              "    <div class=\"colab-df-container\">\n",
              "      <div>\n",
              "<style scoped>\n",
              "    .dataframe tbody tr th:only-of-type {\n",
              "        vertical-align: middle;\n",
              "    }\n",
              "\n",
              "    .dataframe tbody tr th {\n",
              "        vertical-align: top;\n",
              "    }\n",
              "\n",
              "    .dataframe thead th {\n",
              "        text-align: right;\n",
              "    }\n",
              "</style>\n",
              "<table border=\"1\" class=\"dataframe\">\n",
              "  <thead>\n",
              "    <tr style=\"text-align: right;\">\n",
              "      <th></th>\n",
              "      <th>Text</th>\n",
              "      <th>Label</th>\n",
              "    </tr>\n",
              "  </thead>\n",
              "  <tbody>\n",
              "    <tr>\n",
              "      <th>0</th>\n",
              "      <td>அந்த தமிழன் ஒரு சாதிவெறி</td>\n",
              "      <td>None-of-the-above</td>\n",
              "    </tr>\n",
              "    <tr>\n",
              "      <th>1</th>\n",
              "      <td>இந்த வந்தேரிக்கு தகுந்த பாடம் கற்பிப்பார்கள் தமிழர்கள்.</td>\n",
              "      <td>None-of-the-above</td>\n",
              "    </tr>\n",
              "    <tr>\n",
              "      <th>2</th>\n",
              "      <td>எச்ச ராஜா நீ ஒரு மானங்கெட்ட தாயை விட நீ</td>\n",
              "      <td>Misandry</td>\n",
              "    </tr>\n",
              "    <tr>\n",
              "      <th>3</th>\n",
              "      <td>பணம் இருக்கும் இடத்தில் கேட்பது தவறு  இல்லை பணம் இல்லாத இடத்தில் கேட்பதுதான் தவறு</td>\n",
              "      <td>Counter-speech</td>\n",
              "    </tr>\n",
              "    <tr>\n",
              "      <th>4</th>\n",
              "      <td>சக தோழியாக நினைத்து ஆதரவு தாருங்கள் நண்பர்களே!!!!  பயனுள்ள வகையில் தகவல்களைபதிவிடுகிறேனன் பார்த்து விட்டு ஆதரவு தாருங்கள்...</td>\n",
              "      <td>None-of-the-above</td>\n",
              "    </tr>\n",
              "  </tbody>\n",
              "</table>\n",
              "</div>\n",
              "      <button class=\"colab-df-convert\" onclick=\"convertToInteractive('df-97e89096-9678-47f5-931b-dbba5f1feb0f')\"\n",
              "              title=\"Convert this dataframe to an interactive table.\"\n",
              "              style=\"display:none;\">\n",
              "        \n",
              "  <svg xmlns=\"http://www.w3.org/2000/svg\" height=\"24px\"viewBox=\"0 0 24 24\"\n",
              "       width=\"24px\">\n",
              "    <path d=\"M0 0h24v24H0V0z\" fill=\"none\"/>\n",
              "    <path d=\"M18.56 5.44l.94 2.06.94-2.06 2.06-.94-2.06-.94-.94-2.06-.94 2.06-2.06.94zm-11 1L8.5 8.5l.94-2.06 2.06-.94-2.06-.94L8.5 2.5l-.94 2.06-2.06.94zm10 10l.94 2.06.94-2.06 2.06-.94-2.06-.94-.94-2.06-.94 2.06-2.06.94z\"/><path d=\"M17.41 7.96l-1.37-1.37c-.4-.4-.92-.59-1.43-.59-.52 0-1.04.2-1.43.59L10.3 9.45l-7.72 7.72c-.78.78-.78 2.05 0 2.83L4 21.41c.39.39.9.59 1.41.59.51 0 1.02-.2 1.41-.59l7.78-7.78 2.81-2.81c.8-.78.8-2.07 0-2.86zM5.41 20L4 18.59l7.72-7.72 1.47 1.35L5.41 20z\"/>\n",
              "  </svg>\n",
              "      </button>\n",
              "      \n",
              "  <style>\n",
              "    .colab-df-container {\n",
              "      display:flex;\n",
              "      flex-wrap:wrap;\n",
              "      gap: 12px;\n",
              "    }\n",
              "\n",
              "    .colab-df-convert {\n",
              "      background-color: #E8F0FE;\n",
              "      border: none;\n",
              "      border-radius: 50%;\n",
              "      cursor: pointer;\n",
              "      display: none;\n",
              "      fill: #1967D2;\n",
              "      height: 32px;\n",
              "      padding: 0 0 0 0;\n",
              "      width: 32px;\n",
              "    }\n",
              "\n",
              "    .colab-df-convert:hover {\n",
              "      background-color: #E2EBFA;\n",
              "      box-shadow: 0px 1px 2px rgba(60, 64, 67, 0.3), 0px 1px 3px 1px rgba(60, 64, 67, 0.15);\n",
              "      fill: #174EA6;\n",
              "    }\n",
              "\n",
              "    [theme=dark] .colab-df-convert {\n",
              "      background-color: #3B4455;\n",
              "      fill: #D2E3FC;\n",
              "    }\n",
              "\n",
              "    [theme=dark] .colab-df-convert:hover {\n",
              "      background-color: #434B5C;\n",
              "      box-shadow: 0px 1px 3px 1px rgba(0, 0, 0, 0.15);\n",
              "      filter: drop-shadow(0px 1px 2px rgba(0, 0, 0, 0.3));\n",
              "      fill: #FFFFFF;\n",
              "    }\n",
              "  </style>\n",
              "\n",
              "      <script>\n",
              "        const buttonEl =\n",
              "          document.querySelector('#df-97e89096-9678-47f5-931b-dbba5f1feb0f button.colab-df-convert');\n",
              "        buttonEl.style.display =\n",
              "          google.colab.kernel.accessAllowed ? 'block' : 'none';\n",
              "\n",
              "        async function convertToInteractive(key) {\n",
              "          const element = document.querySelector('#df-97e89096-9678-47f5-931b-dbba5f1feb0f');\n",
              "          const dataTable =\n",
              "            await google.colab.kernel.invokeFunction('convertToInteractive',\n",
              "                                                     [key], {});\n",
              "          if (!dataTable) return;\n",
              "\n",
              "          const docLinkHtml = 'Like what you see? Visit the ' +\n",
              "            '<a target=\"_blank\" href=https://colab.research.google.com/notebooks/data_table.ipynb>data table notebook</a>'\n",
              "            + ' to learn more about interactive tables.';\n",
              "          element.innerHTML = '';\n",
              "          dataTable['output_type'] = 'display_data';\n",
              "          await google.colab.output.renderOutput(dataTable, element);\n",
              "          const docLink = document.createElement('div');\n",
              "          docLink.innerHTML = docLinkHtml;\n",
              "          element.appendChild(docLink);\n",
              "        }\n",
              "      </script>\n",
              "    </div>\n",
              "  </div>\n",
              "  "
            ],
            "text/plain": [
              "                                                                                                                           Text              Label\n",
              "0                                                                                                      அந்த தமிழன் ஒரு சாதிவெறி  None-of-the-above\n",
              "1                                                                       இந்த வந்தேரிக்கு தகுந்த பாடம் கற்பிப்பார்கள் தமிழர்கள்.  None-of-the-above\n",
              "2                                                                                       எச்ச ராஜா நீ ஒரு மானங்கெட்ட தாயை விட நீ           Misandry\n",
              "3                                             பணம் இருக்கும் இடத்தில் கேட்பது தவறு  இல்லை பணம் இல்லாத இடத்தில் கேட்பதுதான் தவறு     Counter-speech\n",
              "4  சக தோழியாக நினைத்து ஆதரவு தாருங்கள் நண்பர்களே!!!!  பயனுள்ள வகையில் தகவல்களைபதிவிடுகிறேனன் பார்த்து விட்டு ஆதரவு தாருங்கள்...  None-of-the-above"
            ]
          },
          "metadata": {},
          "execution_count": 46
        }
      ]
    },
    {
      "cell_type": "code",
      "source": [
        "pred=np.argmax(preds,axis=1)\n",
        "print(classification_report(np.argmax(y_test1,axis=1),np.argmax(preds,axis=1)))"
      ],
      "metadata": {
        "colab": {
          "base_uri": "https://localhost:8080/"
        },
        "id": "bK9PJwJIw324",
        "outputId": "7af2c783-b3f0-4614-f290-fd7624718554"
      },
      "execution_count": null,
      "outputs": [
        {
          "output_type": "stream",
          "name": "stdout",
          "text": [
            "              precision    recall  f1-score   support\n",
            "\n",
            "           0       0.38      0.14      0.20        36\n",
            "           1       0.33      0.25      0.29         8\n",
            "           2       0.07      0.09      0.08        11\n",
            "           3       0.51      0.44      0.47       104\n",
            "           4       0.20      0.21      0.20        24\n",
            "           5       0.72      0.84      0.77       346\n",
            "           6       0.00      0.00      0.00         2\n",
            "           7       0.33      0.10      0.16        29\n",
            "\n",
            "    accuracy                           0.63       560\n",
            "   macro avg       0.32      0.26      0.27       560\n",
            "weighted avg       0.60      0.63      0.60       560\n",
            "\n"
          ]
        }
      ]
    },
    {
      "cell_type": "code",
      "source": [
        "# pred=np.argmax(preds,axis=1)\n",
        "# print(classification_report(np.argmax(y_test1,axis=1),np.argmax(preds,axis=1)))"
      ],
      "metadata": {
        "id": "B9BWBn-mPF7a"
      },
      "execution_count": 31,
      "outputs": []
    },
    {
      "cell_type": "code",
      "source": [
        "from sklearn.preprocessing import LabelEncoder\n",
        "from sklearn.preprocessing import LabelEncoder\n",
        "le = LabelEncoder()\n",
        "\n",
        "label = le.fit(data_train[\"label\"])\n",
        "label_t=le.fit_transform(data_train[\"label\"])\n",
        "prediction_1d=le.inverse_transform(prediction_num)\n",
        "\n",
        "\n"
      ],
      "metadata": {
        "id": "Q6h3agLR0_pY"
      },
      "execution_count": null,
      "outputs": []
    },
    {
      "cell_type": "code",
      "source": [
        "prediction_1d"
      ],
      "metadata": {
        "id": "o7hHbRiiy71D"
      },
      "execution_count": null,
      "outputs": []
    },
    {
      "cell_type": "markdown",
      "source": [
        "Experiments down"
      ],
      "metadata": {
        "id": "nhfX2M-xFc1G"
      }
    },
    {
      "cell_type": "code",
      "source": [
        "y_pred_df = pd.DataFrame(data=prediction_1d, columns=['prediction_1d'])\n",
        "tamil = pd.DataFrame()\n",
        "tamil['Text'] = data_dev['Text']\n",
        "tamil['label'] = prediction_1d\n",
        "tamil.to_csv('MUCIC_tamil3.tsv',sep='\\t',index = None)\n",
        "tamil.head()"
      ],
      "metadata": {
        "colab": {
          "base_uri": "https://localhost:8080/",
          "height": 206
        },
        "id": "a-bpFIZhzBei",
        "outputId": "1e66d7c1-35ae-496a-ffa7-53c5673b9998"
      },
      "execution_count": null,
      "outputs": [
        {
          "output_type": "execute_result",
          "data": {
            "text/html": [
              "\n",
              "  <div id=\"df-96aec03a-9e64-4d18-bc30-ae1b984b298e\">\n",
              "    <div class=\"colab-df-container\">\n",
              "      <div>\n",
              "<style scoped>\n",
              "    .dataframe tbody tr th:only-of-type {\n",
              "        vertical-align: middle;\n",
              "    }\n",
              "\n",
              "    .dataframe tbody tr th {\n",
              "        vertical-align: top;\n",
              "    }\n",
              "\n",
              "    .dataframe thead th {\n",
              "        text-align: right;\n",
              "    }\n",
              "</style>\n",
              "<table border=\"1\" class=\"dataframe\">\n",
              "  <thead>\n",
              "    <tr style=\"text-align: right;\">\n",
              "      <th></th>\n",
              "      <th>Text</th>\n",
              "      <th>label</th>\n",
              "    </tr>\n",
              "  </thead>\n",
              "  <tbody>\n",
              "    <tr>\n",
              "      <th>0</th>\n",
              "      <td>அந்த தமிழன் ஒரு சாதிவெறி</td>\n",
              "      <td>None-of-the-above</td>\n",
              "    </tr>\n",
              "    <tr>\n",
              "      <th>1</th>\n",
              "      <td>இந்த வந்தேரிக்கு தகுந்த பாடம் கற்பிப்பார்கள் தமிழர்கள்.</td>\n",
              "      <td>None-of-the-above</td>\n",
              "    </tr>\n",
              "    <tr>\n",
              "      <th>2</th>\n",
              "      <td>எச்ச ராஜா நீ ஒரு மானங்கெட்ட தாயை விட நீ</td>\n",
              "      <td>Misandry</td>\n",
              "    </tr>\n",
              "    <tr>\n",
              "      <th>3</th>\n",
              "      <td>பணம் இருக்கும் இடத்தில் கேட்பது தவறு  இல்லை பணம் இல்லாத இடத்தில் கேட்பதுதான் தவறு</td>\n",
              "      <td>None-of-the-above</td>\n",
              "    </tr>\n",
              "    <tr>\n",
              "      <th>4</th>\n",
              "      <td>சக தோழியாக நினைத்து ஆதரவு தாருங்கள் நண்பர்களே!!!!  பயனுள்ள வகையில் தகவல்களைபதிவிடுகிறேனன் பார்த்து விட்டு ஆதரவு தாருங்கள்...</td>\n",
              "      <td>None-of-the-above</td>\n",
              "    </tr>\n",
              "  </tbody>\n",
              "</table>\n",
              "</div>\n",
              "      <button class=\"colab-df-convert\" onclick=\"convertToInteractive('df-96aec03a-9e64-4d18-bc30-ae1b984b298e')\"\n",
              "              title=\"Convert this dataframe to an interactive table.\"\n",
              "              style=\"display:none;\">\n",
              "        \n",
              "  <svg xmlns=\"http://www.w3.org/2000/svg\" height=\"24px\"viewBox=\"0 0 24 24\"\n",
              "       width=\"24px\">\n",
              "    <path d=\"M0 0h24v24H0V0z\" fill=\"none\"/>\n",
              "    <path d=\"M18.56 5.44l.94 2.06.94-2.06 2.06-.94-2.06-.94-.94-2.06-.94 2.06-2.06.94zm-11 1L8.5 8.5l.94-2.06 2.06-.94-2.06-.94L8.5 2.5l-.94 2.06-2.06.94zm10 10l.94 2.06.94-2.06 2.06-.94-2.06-.94-.94-2.06-.94 2.06-2.06.94z\"/><path d=\"M17.41 7.96l-1.37-1.37c-.4-.4-.92-.59-1.43-.59-.52 0-1.04.2-1.43.59L10.3 9.45l-7.72 7.72c-.78.78-.78 2.05 0 2.83L4 21.41c.39.39.9.59 1.41.59.51 0 1.02-.2 1.41-.59l7.78-7.78 2.81-2.81c.8-.78.8-2.07 0-2.86zM5.41 20L4 18.59l7.72-7.72 1.47 1.35L5.41 20z\"/>\n",
              "  </svg>\n",
              "      </button>\n",
              "      \n",
              "  <style>\n",
              "    .colab-df-container {\n",
              "      display:flex;\n",
              "      flex-wrap:wrap;\n",
              "      gap: 12px;\n",
              "    }\n",
              "\n",
              "    .colab-df-convert {\n",
              "      background-color: #E8F0FE;\n",
              "      border: none;\n",
              "      border-radius: 50%;\n",
              "      cursor: pointer;\n",
              "      display: none;\n",
              "      fill: #1967D2;\n",
              "      height: 32px;\n",
              "      padding: 0 0 0 0;\n",
              "      width: 32px;\n",
              "    }\n",
              "\n",
              "    .colab-df-convert:hover {\n",
              "      background-color: #E2EBFA;\n",
              "      box-shadow: 0px 1px 2px rgba(60, 64, 67, 0.3), 0px 1px 3px 1px rgba(60, 64, 67, 0.15);\n",
              "      fill: #174EA6;\n",
              "    }\n",
              "\n",
              "    [theme=dark] .colab-df-convert {\n",
              "      background-color: #3B4455;\n",
              "      fill: #D2E3FC;\n",
              "    }\n",
              "\n",
              "    [theme=dark] .colab-df-convert:hover {\n",
              "      background-color: #434B5C;\n",
              "      box-shadow: 0px 1px 3px 1px rgba(0, 0, 0, 0.15);\n",
              "      filter: drop-shadow(0px 1px 2px rgba(0, 0, 0, 0.3));\n",
              "      fill: #FFFFFF;\n",
              "    }\n",
              "  </style>\n",
              "\n",
              "      <script>\n",
              "        const buttonEl =\n",
              "          document.querySelector('#df-96aec03a-9e64-4d18-bc30-ae1b984b298e button.colab-df-convert');\n",
              "        buttonEl.style.display =\n",
              "          google.colab.kernel.accessAllowed ? 'block' : 'none';\n",
              "\n",
              "        async function convertToInteractive(key) {\n",
              "          const element = document.querySelector('#df-96aec03a-9e64-4d18-bc30-ae1b984b298e');\n",
              "          const dataTable =\n",
              "            await google.colab.kernel.invokeFunction('convertToInteractive',\n",
              "                                                     [key], {});\n",
              "          if (!dataTable) return;\n",
              "\n",
              "          const docLinkHtml = 'Like what you see? Visit the ' +\n",
              "            '<a target=\"_blank\" href=https://colab.research.google.com/notebooks/data_table.ipynb>data table notebook</a>'\n",
              "            + ' to learn more about interactive tables.';\n",
              "          element.innerHTML = '';\n",
              "          dataTable['output_type'] = 'display_data';\n",
              "          await google.colab.output.renderOutput(dataTable, element);\n",
              "          const docLink = document.createElement('div');\n",
              "          docLink.innerHTML = docLinkHtml;\n",
              "          element.appendChild(docLink);\n",
              "        }\n",
              "      </script>\n",
              "    </div>\n",
              "  </div>\n",
              "  "
            ],
            "text/plain": [
              "                                                                                                                           Text              label\n",
              "0                                                                                                      அந்த தமிழன் ஒரு சாதிவெறி  None-of-the-above\n",
              "1                                                                       இந்த வந்தேரிக்கு தகுந்த பாடம் கற்பிப்பார்கள் தமிழர்கள்.  None-of-the-above\n",
              "2                                                                                       எச்ச ராஜா நீ ஒரு மானங்கெட்ட தாயை விட நீ           Misandry\n",
              "3                                             பணம் இருக்கும் இடத்தில் கேட்பது தவறு  இல்லை பணம் இல்லாத இடத்தில் கேட்பதுதான் தவறு  None-of-the-above\n",
              "4  சக தோழியாக நினைத்து ஆதரவு தாருங்கள் நண்பர்களே!!!!  பயனுள்ள வகையில் தகவல்களைபதிவிடுகிறேனன் பார்த்து விட்டு ஆதரவு தாருங்கள்...  None-of-the-above"
            ]
          },
          "metadata": {},
          "execution_count": 49
        }
      ]
    },
    {
      "cell_type": "code",
      "source": [
        "len(data_dev),len(tamil),"
      ],
      "metadata": {
        "id": "HckyFUgqzoJ_",
        "colab": {
          "base_uri": "https://localhost:8080/"
        },
        "outputId": "86f425d3-0ff4-4523-88ad-41140a7059f8"
      },
      "execution_count": null,
      "outputs": [
        {
          "output_type": "execute_result",
          "data": {
            "text/plain": [
              "(699, 699)"
            ]
          },
          "metadata": {},
          "execution_count": 50
        }
      ]
    },
    {
      "cell_type": "code",
      "source": [
        ""
      ],
      "metadata": {
        "id": "crIvWn4J-llk"
      },
      "execution_count": null,
      "outputs": []
    }
  ]
}